{
 "cells": [
  {
   "cell_type": "markdown",
   "id": "58c98489-8a4e-465a-a08b-8364d7854dca",
   "metadata": {},
   "source": [
    "# EX 3: **Neural Networks**"
   ]
  },
  {
   "cell_type": "code",
   "execution_count": 1,
   "id": "05f6bf57",
   "metadata": {
    "tags": []
   },
   "outputs": [
    {
     "name": "stderr",
     "output_type": "stream",
     "text": [
      "C:\\Users\\qraus\\anaconda3\\envs\\deep_learning\\lib\\site-packages\\tqdm\\auto.py:21: TqdmWarning: IProgress not found. Please update jupyter and ipywidgets. See https://ipywidgets.readthedocs.io/en/stable/user_install.html\n",
      "  from .autonotebook import tqdm as notebook_tqdm\n"
     ]
    }
   ],
   "source": [
    "# import some libraries we'll need\n",
    "import numpy as np\n",
    "from matplotlib import pyplot as plt\n",
    "import torch"
   ]
  },
  {
   "cell_type": "markdown",
   "id": "cf865ddf",
   "metadata": {},
   "source": [
    "*Suppose we have a neural network with two inputs, two hidden layers of 8 units each, ReLU activations (except for $\\hat y = f_\\text{out}(h_L)$) and one output.*\n",
    "\n",
    "* Write an algorithm using python to compute the NN output $\\hat y$ given the input and the free parameters (weights and biases)\n",
    "* Write an algorithm to compute derivatives of the least squares loss $(y - \\hat y)^2$ with respect to all free parameters of the NN. This should be a python function that takes the free parameters, NN inputs $x$ and NN training targets $y$ as its own inputs. **Don't use automatic differntiation, finite differences or symbolic math tools: do the derivatives by hand!**\n",
    "* **Optional challenge problem (+25% of assignment max. points), skip for now if you get stuck**: Extend your derivative computation algorithm to work with any number of hidden layers, all of which can have different numbers of hidden units."
   ]
  },
  {
   "cell_type": "markdown",
   "id": "31ef06a2-2408-4c1f-9f27-9dd28a160439",
   "metadata": {},
   "source": [
    "## The first small Network"
   ]
  },
  {
   "cell_type": "markdown",
   "id": "048ce2e3-2fa7-4be4-9a8b-7a44e69b681b",
   "metadata": {},
   "source": [
    "* *Write an algorithm using python to compute the NN output $\\hat y$ given the input and the free parameters (weights and biases)*"
   ]
  },
  {
   "cell_type": "code",
   "execution_count": 3,
   "id": "f4b5ac1a",
   "metadata": {
    "tags": []
   },
   "outputs": [],
   "source": [
    "units = 8\n",
    "x = np.random.random((1,2))\n",
    "W1   = np.random.random((2,units)) # #umgedreht\n",
    "W2   = np.random.random((units,units))\n",
    "Wout = np.random.random((units,1))\n",
    "\n",
    "b1   = np.random.random((1,units))\n",
    "b2   = np.random.random((1,units))\n",
    "bout = np.random.random((1,1))\n",
    "\n",
    "weights = [W1, W2, Wout]\n",
    "biases  = [b1, b2, bout]\n",
    "\n",
    "y = np.random.random((1,1))"
   ]
  },
  {
   "cell_type": "code",
   "execution_count": 25,
   "id": "f3a693f0-bcbd-4a74-8b08-c341b3dbc9c5",
   "metadata": {
    "tags": []
   },
   "outputs": [
    {
     "name": "stdout",
     "output_type": "stream",
     "text": [
      "(1, 2)\n"
     ]
    }
   ],
   "source": [
    "units = 8\n",
    "x = np.ones((1,2))\n",
    "x = np.array([[1,-1]])\n",
    "print(x.shape)\n",
    "W1   = np.ones((2,units)) # #umgedreht\n",
    "W2   = np.ones((units,units))\n",
    "Wout = np.ones((units,1))\n",
    "\n",
    "b1   = np.ones((1,units))\n",
    "b2   = np.ones((1,units))\n",
    "bout = np.ones((1,1))\n",
    "\n",
    "weights = [W1, W2, Wout]\n",
    "biases  = [b1, b2, bout]\n",
    "\n",
    "y = np.ones((1,1))"
   ]
  },
  {
   "cell_type": "code",
   "execution_count": 4,
   "id": "556180f4-f069-4a2c-8014-ca896a0a1276",
   "metadata": {
    "tags": []
   },
   "outputs": [
    {
     "name": "stdout",
     "output_type": "stream",
     "text": [
      "(1, 8) (1, 8) (1, 8) (1, 8) (1, 1)\n",
      "[[16.38513366]]\n"
     ]
    }
   ],
   "source": [
    "def forward(x,weights,biases):\n",
    "    z1 = np.dot(x,weights[0]) + biases[0]\n",
    "    h1 = np.maximum(np.zeros(z1.shape),z1)\n",
    "\n",
    "    z2 = np.dot(h1,weights[1]) + biases[1]\n",
    "    h2 = np.maximum(np.zeros(z2.shape),z2)   \n",
    "    yhat = np.dot(h2, weights[2]) + biases[2]\n",
    "    \n",
    "    print(z1.shape,h1.shape,z2.shape,h2.shape,yhat.shape)\n",
    "\n",
    "    return yhat, h2, z2, h1, z1\n",
    "yhat, h2, z2, h1, z1 = forward(x,weights,biases)\n",
    "print(yhat)    \n"
   ]
  },
  {
   "cell_type": "markdown",
   "id": "f127bfea-75f8-4ccc-8f28-8ffb0c7c31fe",
   "metadata": {},
   "source": [
    "* *Write an algorithm to compute derivatives of the least squares loss $(y - \\hat y)^2$ with respect to all free parameters of the NN. This should be a python function that takes the free parameters, NN inputs $x$ and NN training targets $y$ as its own inputs.* ***Don't use automatic differntiation, finite differences or symbolic math tools: do the derivatives by hand!***"
   ]
  },
  {
   "cell_type": "code",
   "execution_count": 5,
   "id": "3a9cdf80-9ed1-42e0-9cec-f35bd4951fb1",
   "metadata": {
    "tags": []
   },
   "outputs": [],
   "source": [
    "def d_ReLU(x):\n",
    "    x[x<=0] = 0\n",
    "    x[x >0] = 1\n",
    "    #print(x)\n",
    "    return x"
   ]
  },
  {
   "cell_type": "code",
   "execution_count": 6,
   "id": "b2ed26d6-1bbe-4f66-b56b-dd9fccf9bced",
   "metadata": {
    "tags": []
   },
   "outputs": [
    {
     "name": "stdout",
     "output_type": "stream",
     "text": [
      "(1, 1) (1, 1) (8, 1) (1, 1) (1, 8) (8, 8) (1, 8) (1, 8) (2, 8) (1, 8)\n",
      "[[24.45095654 13.41126723 18.13648798  4.81296279 11.36043768  4.53137126\n",
      "  12.04459504 29.49068029]] [[24.45095654 13.41126723 18.13648798  4.81296279 11.36043768  4.53137126\n",
      "  12.04459504 29.49068029]]\n"
     ]
    }
   ],
   "source": [
    "def backward(x,y,weights,biases,layers):\n",
    "    h1,h2,yhat = layers\n",
    "    e = (y-yhat)**2                                 # [1x1]\n",
    "\n",
    "    de_dyhat = -2 *(y-yhat).T                       # [1x1]\n",
    "    dWout  = np.dot(h2.T,-2 *(y-yhat))              # [8x1] \n",
    "    dbout  = -2 *(y-yhat).T #?                      # [1x1]\n",
    "\n",
    "    z2     = np.dot(h1,weights[1]) + biases[1]\n",
    "    de_dh2 = np.dot(de_dyhat,weights[2].T)          # [1x8]   \n",
    "    dW2    = np.dot(h1.T,d_ReLU(z2)*de_dh2)#?       # [8x8]\n",
    "    db2    = d_ReLU(z2)*de_dh2                      # [1x8]\n",
    "\n",
    "    #de_dh1 = np.dot(de_dh2,d_ReLU(z2)*W2)                  # [1x8] is the same\n",
    "    #print(de_dh1)\n",
    "    z1     = np.dot(x,weights[0]) + biases[0] \n",
    "    de_dh1 = np.dot(d_ReLU(z2)*de_dh2, weights[1].T) # [1x8]\n",
    "    dW1    = np.dot(x.T,(d_ReLU(z1)*de_dh1))#?       # [2x8]\n",
    "    de_db1 = d_ReLU(z1)*de_dh1 #!?                   # [1x8]\n",
    "    \n",
    "    print(e.shape,de_dyhat.shape,dWout.shape,dbout.shape,de_dh2.shape,dW2.shape,db2.shape,de_dh1.shape,dW1.shape,de_db1.shape)\n",
    "    print(db2,de_dh2)\n",
    "    \n",
    "backward(x,y,weights,biases,[h1,h2,yhat])"
   ]
  },
  {
   "cell_type": "markdown",
   "id": "21ba17cd-4cea-4f22-bc11-a4708c6d2429",
   "metadata": {},
   "source": [
    "* ***Optional challenge problem (+25% of assignment max. points), skip for now if you get stuck***: *Extend your derivative computation algorithm to work with any number of hidden layers, all of which can have different numbers of hidden units.*"
   ]
  },
  {
   "cell_type": "markdown",
   "id": "2838b87c-e247-4906-873b-2b8298b9b633",
   "metadata": {},
   "source": [
    "## Load Data"
   ]
  },
  {
   "cell_type": "markdown",
   "id": "5ffd3fa8",
   "metadata": {},
   "source": [
    "We'll now download a data file and extract 3 variables. Each is a NumPy array:\n",
    "* 'y' contains monthly values of the [Nino 3.4 ENSO index](https://climatedataguide.ucar.edu/climate-data/nino-sst-indices-nino-12-3-34-4-oni-and-tni), describing the [El Nino Southern Oscillation](https://en.wikipedia.org/wiki/El_Ni%C3%B1o%E2%80%93Southern_Oscillation) over time.\n",
    "* `x` contains empirical orthogonal function coefficients that describe the ocean temperature at the sea surface and the depth average over the top 300 meters, in the Indo-Pacific, North-Pacific and Atlantic regions. Essentially, the numbers in each row of $x$ summarize temperatures in the upper ocean across the globe. For details of how these are calculated, you can consult [this paper](https://www.nature.com/articles/s41586-019-1559-7) by Ham et al. Each row of `x` describes the ocean state 2 months before the corresponding element of `y`.\n",
    "* `t` contains the time in months since Jan. 1 1970 for each value of `y`. We can use this for plotting results but it won't appear in our calculations otherwise."
   ]
  },
  {
   "cell_type": "code",
   "execution_count": null,
   "id": "4a64f4f7",
   "metadata": {},
   "outputs": [],
   "source": [
    "# library for downloading files from google drive.\n",
    "!pip install gdown  \n",
    "\n",
    "# download the data\n",
    "!gdown https://drive.google.com/uc?id=1FUb-2lcAd0Y1ULjx5jB6UTMNDmGy3vZA"
   ]
  },
  {
   "cell_type": "code",
   "execution_count": 2,
   "id": "969ace86",
   "metadata": {},
   "outputs": [],
   "source": [
    "# load the data\n",
    "with np.load('./data/enso_and_pca.npz') as data:\n",
    "    t, x, y = data['t'], data['x'], data['y']"
   ]
  },
  {
   "cell_type": "markdown",
   "id": "836d1aac",
   "metadata": {},
   "source": [
    "Normalize `y` and each column of `x` so they all have a mean of zero and a standard deviation of one. Overwrite the original variables `x,y` with the normalized ones, but keep track of what you've done, so you can convert your predictions back into original data units later on if needed."
   ]
  },
  {
   "cell_type": "code",
   "execution_count": 3,
   "id": "90926ab1",
   "metadata": {},
   "outputs": [
    {
     "name": "stdout",
     "output_type": "stream",
     "text": [
      "1.0 -6.1876677e-09\n",
      "0.9999994 -1.0828419e-08\n"
     ]
    }
   ],
   "source": [
    "y_norm = (y - np.mean(y))/ np.std(y)\n",
    "print(np.std(y_norm),np.mean(y_norm))\n",
    "x_norm = (x - np.mean(x, axis=0)) / np.std(x, axis=0) # axis 0 oder 1?\n",
    "print(np.std(x_norm[:,0]),np.mean(x_norm[:,0]))\n",
    "#for i in range(len(x[0,:])):\n",
    "#    x_norm[:,i] = (x[:,i] - np.mean(x[:,i]))/np.std(x[:,i])"
   ]
  },
  {
   "cell_type": "markdown",
   "id": "0abec2f5",
   "metadata": {},
   "source": [
    "Last time we wrote a loop by hand to cycle over the data. However, pytorch provides great utilities to do this for us, which will let us focus on what's new in each lesson instead. In particular, we're going to use the PyTorch Dataset and DataLoader classes."
   ]
  },
  {
   "cell_type": "code",
   "execution_count": 4,
   "id": "ba056261",
   "metadata": {
    "id": "ba056261"
   },
   "outputs": [],
   "source": [
    "from torch.utils.data import TensorDataset, DataLoader\n",
    "\n",
    "# create PyTorch tensors for our inputs and target outputs\n",
    "xt = torch.tensor(x_norm)\n",
    "yt = torch.tensor(y_norm)\n",
    "\n",
    "# use the first 1100 time points as training data\n",
    "#xt_train, yt_train = xt[:1100], yt[:1100]\n",
    "xt_train, yt_train = xt[:1104], yt[:1104]\n",
    "\n",
    "# save the remaining data for testing\n",
    "xt_test, yt_test = xt[1100:], yt[1100:]\n",
    "\n",
    "dataset = TensorDataset(xt_train, yt_train)  # combine the inputs and outputs into a PyTorch Dataset object\n",
    "# create a dataloader to serve up batches of 8 data point for training\n",
    "data_loader = DataLoader(dataset, batch_size=8, shuffle=True)"
   ]
  },
  {
   "cell_type": "markdown",
   "id": "60572884",
   "metadata": {
    "id": "60572884"
   },
   "source": [
    "Now let's get the first 'batch' of data from the dataloader, and see what it looks like."
   ]
  },
  {
   "cell_type": "code",
   "execution_count": 5,
   "id": "96b27757",
   "metadata": {
    "colab": {
     "base_uri": "https://localhost:8080/"
    },
    "id": "96b27757",
    "outputId": "d7ae234d-d634-4e99-e22e-8d9502956a3d",
    "scrolled": true,
    "tags": []
   },
   "outputs": [
    {
     "name": "stdout",
     "output_type": "stream",
     "text": [
      "shape of x_batch: torch.Size([8, 46])\n",
      "shape of y_batch: torch.Size([8])\n"
     ]
    }
   ],
   "source": [
    "for x_batch, y_batch in data_loader:\n",
    "    print('shape of x_batch: {0}'.format(x_batch.shape) )\n",
    "    print('shape of y_batch: {0}'.format(y_batch.shape) )  \n",
    "    break  # if we didn't have this line, the for loop would cycle through all the data"
   ]
  },
  {
   "cell_type": "markdown",
   "id": "f7afedd4-71cb-4ba8-b24c-d17eeceea462",
   "metadata": {},
   "source": [
    "## Stochastic gradient decent"
   ]
  },
  {
   "cell_type": "markdown",
   "id": "505a8900",
   "metadata": {},
   "source": [
    "*Now use a for loop, iterating over batches from the data loader, to fit a linear regression $\\hat y = x\\cdot \\beta$ with least squares loss, by stochastic gradient descent. Refer back to the code you wrote from the last set of exercises for guidance (and feel free to copy-paste from your own previous homework).*\n",
    "* *Add an extra column of ones to `x` to incorporate a constant term*\n",
    "* *Don't forget to set `requires_grad = True` when initializing `beta`*\n",
    "* *Choose how to initialize $\\beta$. All zeros? Random? Does it make much of a difference here?*\n",
    "* *As before, don't forget to use `with torch.no_grad():` when updating parameters*\n",
    "* *Store the loss at each iteration of the loop.*\n",
    "* *Does the loss decrease on the training data? Do you get a positive correlation between $y$ and $\\hat y$ at the end on the training data?*\n",
    "* *See if you can get a better result by adjusting the initialization of free parameters or the learning rate*"
   ]
  },
  {
   "cell_type": "code",
   "execution_count": 6,
   "id": "36c812da",
   "metadata": {},
   "outputs": [],
   "source": [
    "def SGD(data_loader, random = False, LR=1e-4, runs=200):\n",
    "    Loss = []\n",
    "    Beta = []\n",
    "    if random:\n",
    "        beta = torch.rand((1,x_norm.shape[1]+1), requires_grad=True)\n",
    "    else:\n",
    "        beta = torch.zeros((1,x_norm.shape[1]+1), requires_grad=True)\n",
    "\n",
    "    for i in range(runs):\n",
    "        Beta.append(beta.detach().numpy()[0])\n",
    "        for x_batch, y_batch in data_loader: \n",
    "            x_batch = torch.cat((x_batch,torch.ones(8, 1) ), 1)\n",
    "            yhat = torch.mm(beta, x_batch.T)\n",
    "            loss = 1/len(x_batch) * torch.sum((y_batch - yhat)**2)#\n",
    "            loss.backward()\n",
    "            with torch.no_grad():\n",
    "                beta -= beta.grad * LR\n",
    "                beta.grad.zero_()\n",
    "            Loss.append(loss.detach().numpy())\n",
    "    return Loss, Beta, beta.detach().numpy(), yhat.detach().numpy()"
   ]
  },
  {
   "cell_type": "code",
   "execution_count": 7,
   "id": "02383123-ac21-4add-8381-4869073388d4",
   "metadata": {
    "tags": []
   },
   "outputs": [],
   "source": [
    "Loss, Beta, beta, yhat = SGD(data_loader, random = False)\n",
    "Loss_r, Beta_r, beta_r, yhat_r = SGD(data_loader, random = True)"
   ]
  },
  {
   "cell_type": "markdown",
   "id": "69af998d-e743-4e8d-b63a-996f2252d228",
   "metadata": {},
   "source": [
    "* *Choose how to initialize $\\beta$. All zeros? Random? Does it make much of a difference here?*"
   ]
  },
  {
   "cell_type": "code",
   "execution_count": 8,
   "id": "ee9ef187-7c3c-4d1d-a546-97e63882c58a",
   "metadata": {
    "tags": []
   },
   "outputs": [
    {
     "data": {
      "image/png": "[encoded data removed]",
      "text/plain": [
       "<Figure size 1600x600 with 2 Axes>"
      ]
     },
     "metadata": {},
     "output_type": "display_data"
    }
   ],
   "source": [
    "fig = plt.figure(figsize=(16,6))\n",
    "(ax1, ax2) = fig.subplots(1, 2)\n",
    "ax1.plot(Loss)\n",
    "ax1.set_title(\"Zeros\")\n",
    "ax2.plot(Loss_r)\n",
    "ax2.set_title(\"Random\")\n",
    "plt.show()"
   ]
  },
  {
   "cell_type": "markdown",
   "id": "b1c063b4-9c95-4132-afb3-edd26c5fd3fc",
   "metadata": {},
   "source": [
    "When initializing with zeros the loss function starts with a value about a magnitude smaller and also converges faster than for an initialization with random numbers."
   ]
  },
  {
   "cell_type": "markdown",
   "id": "a3b8b650-432e-436c-8963-c51ade5b5356",
   "metadata": {},
   "source": [
    "* *Does the loss decrease on the training data? Do you get a positive correlation between $y$ and $\\hat y$ at the end on the training data?*"
   ]
  },
  {
   "cell_type": "code",
   "execution_count": 9,
   "id": "f33606e2-310c-43df-a5a1-15fb7975fe57",
   "metadata": {
    "tags": []
   },
   "outputs": [
    {
     "name": "stdout",
     "output_type": "stream",
     "text": [
      "[[1.         0.91479323]\n",
      " [0.91479323 1.        ]]\n"
     ]
    }
   ],
   "source": [
    "x_corr = torch.cat((xt_train,torch.ones(1104, 1) ), 1)\n",
    "yhat = np.matmul(beta, x_corr.T.detach().numpy()[:]) # muss ich die einsen stacken?\n",
    "correlation = np.corrcoef(yhat,yt_train.detach().numpy()[:])\n",
    "print(correlation)"
   ]
  },
  {
   "cell_type": "markdown",
   "id": "b367667b-cc59-49a7-9bcd-952b274e0d5b",
   "metadata": {},
   "source": [
    "The Loss does decrease with the training data and the correlation is positive at around 91%."
   ]
  },
  {
   "cell_type": "markdown",
   "id": "476660a6-8916-4351-9c93-1655cf2ce69c",
   "metadata": {},
   "source": [
    "* *See if you can get a better result by adjusting the initialization of free parameters or the learning rate*"
   ]
  },
  {
   "cell_type": "code",
   "execution_count": 10,
   "id": "38ec3b95-b24d-4a27-a213-994c4305d1ee",
   "metadata": {
    "tags": []
   },
   "outputs": [
    {
     "name": "stdout",
     "output_type": "stream",
     "text": [
      "[[1.         0.84224241]\n",
      " [0.84224241 1.        ]]\n"
     ]
    }
   ],
   "source": [
    "yhat = np.matmul(beta_r, x_corr.T.detach().numpy()[:]) # muss ich die einsen stacken?\n",
    "correlation = np.corrcoef(yhat,yt_train.detach().numpy()[:])\n",
    "print(correlation)"
   ]
  },
  {
   "cell_type": "markdown",
   "id": "4130a155-dc68-45e6-8048-cf6fcc421c15",
   "metadata": {},
   "source": [
    "The corralation is worse for random initialization of beta."
   ]
  },
  {
   "cell_type": "code",
   "execution_count": 11,
   "id": "4b6d992d-6940-48b6-a55a-ae7d7171e513",
   "metadata": {
    "tags": []
   },
   "outputs": [
    {
     "data": {
      "image/png": "[encoded data removed]",
      "text/plain": [
       "<Figure size 1600x600 with 2 Axes>"
      ]
     },
     "metadata": {},
     "output_type": "display_data"
    },
    {
     "name": "stdout",
     "output_type": "stream",
     "text": [
      "[[1.         0.92476031]\n",
      " [0.92476031 1.        ]]\n"
     ]
    }
   ],
   "source": [
    "Loss_5, Beta_5, beta_5, yhat_5 = SGD(data_loader, random = False, LR=1e-3, runs=200)\n",
    "fig = plt.figure(figsize=(16,6))\n",
    "(ax1, ax2) = fig.subplots(1, 2)\n",
    "ax1.plot(Loss_5)\n",
    "ax1.set_title(\"???\")\n",
    "ax2.plot(Loss)\n",
    "ax2.set_title(\"???\")\n",
    "plt.show()\n",
    "\n",
    "yhat = np.matmul(beta_5, x_corr.T.detach().numpy()[:]) # muss ich die einsen stacken?\n",
    "correlation = np.corrcoef(yhat,yt_train.detach().numpy()[:])\n",
    "print(correlation)"
   ]
  },
  {
   "cell_type": "markdown",
   "id": "d49a94f8-f787-4f5d-9364-eff842c0ad1b",
   "metadata": {},
   "source": [
    "For a learning rate of 1e-3 and the same amount of runs the correlations is slighly better"
   ]
  },
  {
   "cell_type": "markdown",
   "id": "e9237b65-b1ad-444d-a75b-e55ca8da73bd",
   "metadata": {},
   "source": [
    "## Neural Network for ENSO Data"
   ]
  },
  {
   "cell_type": "markdown",
   "id": "0ea3cda8",
   "metadata": {},
   "source": [
    "Now repeat the process, but instead of a linear model we'll use a neural network with two hidden layers of 32 units each, and the ReLU activation function $\\phi(z) = \\max(0, z)$. Again we'll use least squares loss and a batch size of 8.\n",
    "\n",
    "**Don't** use PyTorch's built-in classes for this just yet. Instead:\n",
    "* Define tensors of the correct size and data type (check `x.dtype`) for each variable containing free parameters (weights and biases) of your neural network. Remember to set `requires_grad = True` where needed.\n",
    "* For each batch of data, compute the hidden state activations $h_1$ as a function of $W_1, b_1, x$\n",
    "* Then compute $h_2$, $\\hat y$ and $e=\\ell(y, \\hat y)$.\n",
    "* Call `e.backward()` to compute derivatives of $e$ with respect to the free variables of your neural network, using backward-mode differentiation.\n",
    "* Now update all free parameters based on the computed derivatives and the learning rate, just as you did for the linear regression example. Remember to use `with torch.no_grad():`\n",
    "* Plot the convergence of the loss function over iterations. Are you getting a better fit than with the linear regression?\n",
    "* How did you initialize? Does it make a difference now?"
   ]
  },
  {
   "cell_type": "code",
   "execution_count": 12,
   "id": "35233fea",
   "metadata": {},
   "outputs": [],
   "source": [
    "if False:\n",
    "    units = 32\n",
    "    n    = x_norm.shape[1]\n",
    "    W1   = torch.tensor(np.random.random((n,units))*0.1, requires_grad = True) # brauchen wir immer grad?\n",
    "    W2   = torch.tensor(np.random.random((units,units))*0.1, requires_grad = True)\n",
    "    Wout = torch.tensor(np.random.random((units,1))*0.1, requires_grad = True)\n",
    "\n",
    "    b1   = torch.tensor(np.random.random((1,units))*0.1, requires_grad = True)\n",
    "    b2   = torch.tensor(np.random.random((1,units))*0.1, requires_grad = True)\n",
    "    bout = torch.tensor(np.random.random((1,1))*0.1, requires_grad = True)\n",
    "\n",
    "units = 32\n",
    "n    = x_norm.shape[1]\n",
    "W1   = torch.tensor(np.random.random((units,n))*0.1, requires_grad = True) # brauchen wir immer grad?\n",
    "W2   = torch.tensor(np.random.random((units,units))*0.1, requires_grad = True)\n",
    "Wout = torch.tensor(np.random.random((1,units))*0.1, requires_grad = True)\n",
    "\n",
    "b1   = torch.tensor(np.random.random((units,1))*0.1, requires_grad = True)\n",
    "b2   = torch.tensor(np.random.random((units,1))*0.1, requires_grad = True)\n",
    "bout = torch.tensor(np.random.random((1,1))*0.1, requires_grad = True)\n",
    "\n",
    "weights = [W1, W2, Wout]\n",
    "biases  = [b1, b2, bout]\n"
   ]
  },
  {
   "cell_type": "code",
   "execution_count": 13,
   "id": "385cb26a-8e5e-4222-b17c-7d056ac8887a",
   "metadata": {
    "tags": []
   },
   "outputs": [],
   "source": [
    "def NN(data_loader, weights, biases, LR=1e-4, runs=200):\n",
    "    W1, W2, Wout = weights\n",
    "    b1, b2, bout = biases \n",
    "    \n",
    "    Loss = []\n",
    "\n",
    "    for i in range(runs):\n",
    "        for x_batch, y_batch in data_loader:\n",
    "            #h1   = torch.maximum(torch.zeros(1),torch.mm(x_batch.float(), weights[0].float()) + biases[0])\n",
    "            #h2   = torch.maximum(torch.zeros(1),torch.mm(h1, weights[1]) + biases[1])\n",
    "            #yhat = torch.mm(h2, weights[2]) + biases[2]\n",
    "            h1   = torch.maximum(torch.zeros(1),torch.mm(weights[0].float(),x_batch.T.float()) + biases[0])\n",
    "            h2   = torch.maximum(torch.zeros(1),torch.mm(weights[1],h1) + biases[1])\n",
    "            yhat = torch.mm(weights[2],h2) + biases[2]\n",
    "            e    = torch.sum((y_batch-yhat)**2)\n",
    "            e.backward()\n",
    "            with torch.no_grad():\n",
    "                for j in range(len(weights)):\n",
    "                    weights[j] -= weights[j].grad * LR\n",
    "                    weights[j].grad.zero_()\n",
    "                    biases[j] -= biases[j].grad * LR\n",
    "                    biases[j].grad.zero_()\n",
    "\n",
    "        Loss.append(e.detach().numpy())\n",
    "    return Loss, yhat.detach().numpy()"
   ]
  },
  {
   "cell_type": "code",
   "execution_count": 14,
   "id": "5c7ec581-16f8-440f-9ca9-73fa73520cba",
   "metadata": {
    "tags": []
   },
   "outputs": [],
   "source": [
    "Loss, yhat = NN(data_loader, weights, biases)"
   ]
  },
  {
   "cell_type": "code",
   "execution_count": 15,
   "id": "d2a802a1-d413-4143-8226-bd90e55d0cbb",
   "metadata": {
    "tags": []
   },
   "outputs": [
    {
     "data": {
      "text/plain": [
       "[<matplotlib.lines.Line2D at 0x2546fd37fa0>]"
      ]
     },
     "execution_count": 15,
     "metadata": {},
     "output_type": "execute_result"
    },
    {
     "data": {
      "image/png": "[encoded data removed]",
      "text/plain": [
       "<Figure size 640x480 with 1 Axes>"
      ]
     },
     "metadata": {},
     "output_type": "display_data"
    }
   ],
   "source": [
    "plt.plot(Loss)"
   ]
  },
  {
   "cell_type": "markdown",
   "id": "fb8893b4",
   "metadata": {},
   "source": [
    "Now plot the target ENSO 3.4 index values $y$ against the predictions from the linear regression and the neural network. Clearly mark the boundary between training and testing data."
   ]
  },
  {
   "cell_type": "code",
   "execution_count": null,
   "id": "f5c66c99",
   "metadata": {},
   "outputs": [],
   "source": []
  },
  {
   "cell_type": "markdown",
   "id": "d06f5199",
   "metadata": {},
   "source": [
    "What are mean square errors for the NN and linear regression, in original data units, on the testing and training data? How about Pearson's correlation coefficient?"
   ]
  },
  {
   "cell_type": "code",
   "execution_count": null,
   "id": "f8bc2080",
   "metadata": {},
   "outputs": [],
   "source": []
  },
  {
   "cell_type": "markdown",
   "id": "c1415976",
   "metadata": {},
   "source": [
    "Now we'll do the same thing, but defining a python object class for our neural network, and some built-in PyTorch classes:"
   ]
  },
  {
   "cell_type": "code",
   "execution_count": null,
   "id": "9e55053d",
   "metadata": {},
   "outputs": [],
   "source": [
    "import torch.nn as nn\n",
    "import torch.nn.functional as F\n",
    "\n",
    "class Net(nn.Module):\n",
    "    def __init__(self, n_inputs=46, n_outputs=1, n_hidden=32):\n",
    "        super(Net, self).__init__()\n",
    "\n",
    "        self.fc1 = nn.Linear(n_inputs, n_hidden)  # 5*5 from image dimension\n",
    "        self.fc2 = nn.Linear(n_hidden, n_hidden)\n",
    "        self.fc3 = nn.Linear(n_hidden, n_outputs)\n",
    "     \n",
    "    def forward(self, x):\n",
    "        x = F.relu(self.fc1(x))\n",
    "        x = F.relu(self.fc2(x))\n",
    "        x = self.fc3(x)\n",
    "        return x"
   ]
  },
  {
   "cell_type": "markdown",
   "id": "73f2b21e",
   "metadata": {},
   "source": [
    "As described in the first two lectures, we are now building our neural net out of composable functions that we can stack together like legos.\n",
    "\n",
    "PyTorch also lets us iterate in loops over the trainable parameters of the model. Note how `requires_grad` was correctly set by default for the learnable parameters."
   ]
  },
  {
   "cell_type": "code",
   "execution_count": null,
   "id": "3909bd51",
   "metadata": {},
   "outputs": [],
   "source": [
    "net = Net()\n",
    "for name, param in net.named_parameters():\n",
    "    print(f'{name}: requires_grad={param.requires_grad}')"
   ]
  },
  {
   "cell_type": "markdown",
   "id": "f6e3ba79",
   "metadata": {},
   "source": [
    "When we use our network object like a function, the input gets passed to the `forward()` method:"
   ]
  },
  {
   "cell_type": "code",
   "execution_count": null,
   "id": "ccfa6215",
   "metadata": {
    "scrolled": true
   },
   "outputs": [],
   "source": [
    "print(net(torch.rand(46)))"
   ]
  },
  {
   "cell_type": "markdown",
   "id": "3ae38f0f",
   "metadata": {},
   "source": [
    "We can also provide it with multiple inputs to process independently:"
   ]
  },
  {
   "cell_type": "code",
   "execution_count": null,
   "id": "930f5dae",
   "metadata": {},
   "outputs": [],
   "source": [
    "print(net(torch.rand(4,46)))"
   ]
  },
  {
   "cell_type": "markdown",
   "id": "72ffafd4",
   "metadata": {},
   "source": [
    "Now redo the training loop from before, but now update the parameters using an inner loop over `net.named_parameters` (remember to use `torch.no_grad()` when updating parameters, and to zero out the derivatives after you do so).\n",
    "\n",
    "Instead of calling `var.grad.zero()` on each trainable variable, we can now also simply call `net.zero_grad()` once.\n",
    "\n",
    "Look up the default initialization of weights and biases in the `nn.Linear` objects you used."
   ]
  },
  {
   "cell_type": "code",
   "execution_count": null,
   "id": "31d300ee",
   "metadata": {},
   "outputs": [],
   "source": []
  },
  {
   "cell_type": "markdown",
   "id": "8698bfb0",
   "metadata": {},
   "source": [
    "Change the `Net()` class above to allow an adjustable number of hidden layers to be specified when initializing the object, and to specify a different number of hidden units for each hidden layer. Can you get better results on the testing data by adjusting this?"
   ]
  },
  {
   "cell_type": "code",
   "execution_count": null,
   "id": "f796dcc5",
   "metadata": {},
   "outputs": [],
   "source": []
  }
 ],
 "metadata": {
  "kernelspec": {
   "display_name": "Python 3 (ipykernel)",
   "language": "python",
   "name": "python3"
  },
  "language_info": {
   "codemirror_mode": {
    "name": "ipython",
    "version": 3
   },
   "file_extension": ".py",
   "mimetype": "text/x-python",
   "name": "python",
   "nbconvert_exporter": "python",
   "pygments_lexer": "ipython3",
   "version": "3.10.10"
  }
 },
 "nbformat": 4,
 "nbformat_minor": 5
}
