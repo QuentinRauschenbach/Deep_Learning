{
 "cells": [
  {
   "cell_type": "markdown",
   "id": "99728a55-f232-484a-bb0c-da03ff57f96d",
   "metadata": {},
   "source": []
  },
  {
   "cell_type": "markdown",
   "id": "150fb896",
   "metadata": {
    "id": "150fb896"
   },
   "source": [
    "Let's start off by importing some packages we'll need."
   ]
  },
  {
   "cell_type": "code",
   "execution_count": 1,
   "id": "82b772eb",
   "metadata": {
    "id": "82b772eb",
    "tags": []
   },
   "outputs": [
    {
     "name": "stderr",
     "output_type": "stream",
     "text": [
      "C:\\Users\\qraus\\anaconda3\\envs\\deep_learning\\lib\\site-packages\\tqdm\\auto.py:21: TqdmWarning: IProgress not found. Please update jupyter and ipywidgets. See https://ipywidgets.readthedocs.io/en/stable/user_install.html\n",
      "  from .autonotebook import tqdm as notebook_tqdm\n"
     ]
    }
   ],
   "source": [
    "import numpy as np\n",
    "import xarray as xr\n",
    "from matplotlib import pyplot as plt\n",
    "from tqdm import tqdm\n",
    "import torch\n",
    "from torch.utils.data import TensorDataset, DataLoader"
   ]
  },
  {
   "cell_type": "markdown",
   "id": "4bacee54",
   "metadata": {
    "id": "4bacee54"
   },
   "source": [
    "* Create some random data of size (B, C, H) where B is a batch dimension, C is number of channels (start with 1) and H is height.\n",
    "* Create a 1D convolution layer `L` using `torch.nn.Conv1d`, with a 3-element filter. Start off with 1 input and output.\n",
    "* Inspect the free parameters of your layer using its `.weight` and `.bias` fields.\n",
    "* How many dimensions does `L.weight` have, and what do they all represent?\n",
    "* Set the bias and weights to all be zero. Set one weight to be 2. Apply your convolution layer to an input tensor and describe what happens.\n",
    "* How many dimensions did your input tensor need to have, and what does each represent?"
   ]
  },
  {
   "cell_type": "markdown",
   "id": "aKoJvIpu6Idm",
   "metadata": {
    "id": "aKoJvIpu6Idm"
   },
   "source": [
    "*Create some random data of size (B, C, H) where B is a batch dimension, C is number of channels (start with 1) and H is height.*"
   ]
  },
  {
   "cell_type": "code",
   "execution_count": 2,
   "id": "eb59a6e8",
   "metadata": {
    "id": "eb59a6e8",
    "tags": []
   },
   "outputs": [],
   "source": [
    "B = 5\n",
    "C = 1\n",
    "H = 5\n",
    "\n",
    "data = torch.ones((B,C,H)) #rand"
   ]
  },
  {
   "cell_type": "code",
   "execution_count": 3,
   "id": "ovuop-nX0wkv",
   "metadata": {
    "id": "ovuop-nX0wkv",
    "tags": []
   },
   "outputs": [],
   "source": [
    "# channels input image 1\n",
    "#\n",
    "#kernel_size 3\n",
    "L = torch.nn.Conv1d(1,1,3)"
   ]
  },
  {
   "cell_type": "code",
   "execution_count": 4,
   "id": "SzlnPOpe1v-3",
   "metadata": {
    "colab": {
     "base_uri": "https://localhost:8080/"
    },
    "id": "SzlnPOpe1v-3",
    "outputId": "caa3cd68-b521-4c4b-cf0e-80372004a43f",
    "tags": []
   },
   "outputs": [
    {
     "name": "stdout",
     "output_type": "stream",
     "text": [
      "Weights\n",
      "Parameter containing:\n",
      "tensor([[[-0.5301,  0.1869, -0.4412]]], requires_grad=True)\n"
     ]
    },
    {
     "data": {
      "text/plain": [
       "torch.Size([1, 1, 3])"
      ]
     },
     "execution_count": 4,
     "metadata": {},
     "output_type": "execute_result"
    }
   ],
   "source": [
    "print(\"Weights\")\n",
    "print(L.weight)\n",
    "L.weight.shape"
   ]
  },
  {
   "cell_type": "code",
   "execution_count": 5,
   "id": "ro5xXYER2Mqa",
   "metadata": {
    "colab": {
     "base_uri": "https://localhost:8080/"
    },
    "id": "ro5xXYER2Mqa",
    "outputId": "9b12328a-643e-42a1-9db4-a05631007830",
    "tags": []
   },
   "outputs": [
    {
     "name": "stdout",
     "output_type": "stream",
     "text": [
      "Biases:\n"
     ]
    },
    {
     "data": {
      "text/plain": [
       "Parameter containing:\n",
       "tensor([-0.3281], requires_grad=True)"
      ]
     },
     "execution_count": 5,
     "metadata": {},
     "output_type": "execute_result"
    }
   ],
   "source": [
    "print(\"Biases:\")\n",
    "L.bias"
   ]
  },
  {
   "cell_type": "markdown",
   "id": "mL9CqHBn6cpF",
   "metadata": {
    "id": "mL9CqHBn6cpF"
   },
   "source": [
    "* *Set the bias and weights to all be zero. Set one weight to be 2. Apply your convolution layer to an input tensor and describe what happens.*"
   ]
  },
  {
   "cell_type": "code",
   "execution_count": 6,
   "id": "UojMBupR6Qty",
   "metadata": {
    "colab": {
     "base_uri": "https://localhost:8080/"
    },
    "id": "UojMBupR6Qty",
    "outputId": "1a13e73a-0833-458b-9a44-00709763cbcb",
    "tags": []
   },
   "outputs": [
    {
     "name": "stdout",
     "output_type": "stream",
     "text": [
      "Parameter containing:\n",
      "tensor([[[0., 2., 0.]]], requires_grad=True)\n"
     ]
    }
   ],
   "source": [
    "L.weight.data = torch.zeros(L.weight.shape)\n",
    "L.bias.data = torch.zeros(L.bias.shape)\n",
    "\n",
    "L.weight.data[0,0,1] = torch.tensor([2.0])\n",
    "print(L.weight)\n"
   ]
  },
  {
   "cell_type": "code",
   "execution_count": null,
   "id": "9a3d6513-4f75-4d53-aaa4-ca7fc1e9ff5b",
   "metadata": {},
   "outputs": [],
   "source": []
  },
  {
   "cell_type": "code",
   "execution_count": 7,
   "id": "SpzQIAXJ-CKT",
   "metadata": {
    "colab": {
     "base_uri": "https://localhost:8080/"
    },
    "id": "SpzQIAXJ-CKT",
    "outputId": "b1167349-c82e-4e5a-8fc2-9e6bab48eedb",
    "tags": []
   },
   "outputs": [
    {
     "data": {
      "text/plain": [
       "tensor([[[2., 2., 2.]],\n",
       "\n",
       "        [[2., 2., 2.]],\n",
       "\n",
       "        [[2., 2., 2.]],\n",
       "\n",
       "        [[2., 2., 2.]],\n",
       "\n",
       "        [[2., 2., 2.]]], grad_fn=<ConvolutionBackward0>)"
      ]
     },
     "execution_count": 7,
     "metadata": {},
     "output_type": "execute_result"
    }
   ],
   "source": [
    "L(data)"
   ]
  },
  {
   "cell_type": "markdown",
   "id": "d2774a31-f9ab-4aba-8524-81fed6282c9d",
   "metadata": {},
   "source": [
    "* How many dimensions did your input tensor need to have, and what does each represent?"
   ]
  },
  {
   "cell_type": "markdown",
   "id": "e08ac81a-d340-493f-8d0a-96092452b159",
   "metadata": {},
   "source": [
    "input has to have at least Kernel size"
   ]
  },
  {
   "cell_type": "markdown",
   "id": "609abc03",
   "metadata": {
    "id": "609abc03"
   },
   "source": [
    "* Create and test a convolution with multiple input and output channels."
   ]
  },
  {
   "cell_type": "code",
   "execution_count": 8,
   "id": "3a18a842",
   "metadata": {
    "id": "3a18a842",
    "tags": []
   },
   "outputs": [
    {
     "name": "stdout",
     "output_type": "stream",
     "text": [
      "tensor([[[ 0.3299,  0.3068,  0.2477],\n",
      "         [-0.5117, -0.8039, -1.0170],\n",
      "         [ 0.0244,  0.2951,  0.2435]],\n",
      "\n",
      "        [[ 0.1808,  0.1550,  0.2062],\n",
      "         [-0.5299, -0.4068, -0.3508],\n",
      "         [-0.3224, -0.2866, -0.0626]],\n",
      "\n",
      "        [[-0.0283,  0.3365,  0.3131],\n",
      "         [-0.9897, -0.9341, -0.6521],\n",
      "         [ 0.3293,  0.2353,  0.3683]],\n",
      "\n",
      "        [[ 0.4315,  0.2690,  0.1922],\n",
      "         [-0.8779, -0.8248, -0.6867],\n",
      "         [ 0.3537,  0.4840,  0.3403]],\n",
      "\n",
      "        [[ 0.0928,  0.3787,  0.0751],\n",
      "         [-0.5169, -0.9054, -0.8667],\n",
      "         [-0.0422,  0.0969,  0.3700]]], grad_fn=<ConvolutionBackward0>)\n"
     ]
    }
   ],
   "source": [
    "data2 = torch.rand(5,3,5)\n",
    "L2 = torch.nn.Conv1d(3,3,3)\n",
    "print(L2(data2))"
   ]
  },
  {
   "cell_type": "markdown",
   "id": "1d36b067",
   "metadata": {
    "id": "1d36b067"
   },
   "source": [
    "* Repeat the previous problem, but now for random input data of size (B, C, H, W) and a `torch.nn.Conv2d` layer with a 3x3 filter.\n",
    "* Go up to at least 2 inputs and outputs. What does each dimension of `L.weight` and `L.bias` mean now?"
   ]
  },
  {
   "cell_type": "code",
   "execution_count": 9,
   "id": "a1870c19",
   "metadata": {
    "id": "a1870c19",
    "tags": []
   },
   "outputs": [
    {
     "name": "stdout",
     "output_type": "stream",
     "text": [
      "Parameter containing:\n",
      "tensor([[[[ 0.0115, -0.0670, -0.2119],\n",
      "          [ 0.2309, -0.0446, -0.1289],\n",
      "          [ 0.1033,  0.0463,  0.1510]],\n",
      "\n",
      "         [[ 0.1167, -0.0253, -0.0271],\n",
      "          [ 0.2294,  0.1670, -0.0613],\n",
      "          [-0.1847,  0.1164, -0.0862]]],\n",
      "\n",
      "\n",
      "        [[[-0.1123, -0.2189,  0.0951],\n",
      "          [-0.1571, -0.0424,  0.0829],\n",
      "          [-0.0089, -0.0175,  0.1198]],\n",
      "\n",
      "         [[-0.0725,  0.0808,  0.2209],\n",
      "          [ 0.0728, -0.1938, -0.1093],\n",
      "          [ 0.1368, -0.0504,  0.0589]]]], requires_grad=True)\n",
      "Parameter containing:\n",
      "tensor([ 0.1444, -0.1055], requires_grad=True)\n"
     ]
    }
   ],
   "source": [
    "B = 5\n",
    "C = 2\n",
    "H = 5\n",
    "W = 5\n",
    "data_2D = torch.rand(B,C,H,W)\n",
    "\n",
    "L_2D = torch.nn.Conv2d(2,2,(3,3))\n",
    "#L_2D(data_2D)\n",
    "print(L_2D.weight) #shape output, input, filter\n",
    "print(L_2D.bias) # shape of output channels\n"
   ]
  },
  {
   "cell_type": "markdown",
   "id": "9d05a3d8",
   "metadata": {
    "id": "9d05a3d8"
   },
   "source": [
    "Experiment with different modes for the `padding` argument to the Conv2d class. See the documentation [here](https://pytorch.org/docs/stable/generated/torch.nn.Conv2d.html)."
   ]
  },
  {
   "cell_type": "code",
   "execution_count": 12,
   "id": "7473f9f3",
   "metadata": {
    "id": "7473f9f3"
   },
   "outputs": [
    {
     "name": "stdout",
     "output_type": "stream",
     "text": [
      "Parameter containing:\n",
      "tensor([[[[-0.1765,  0.1623, -0.2244],\n",
      "          [ 0.0821,  0.0790,  0.2139],\n",
      "          [ 0.0143, -0.1144,  0.0982]],\n",
      "\n",
      "         [[ 0.1573, -0.1210, -0.0062],\n",
      "          [ 0.1600, -0.2247,  0.0555],\n",
      "          [-0.0356, -0.1370,  0.0906]]],\n",
      "\n",
      "\n",
      "        [[[ 0.2080,  0.2296, -0.0496],\n",
      "          [-0.1114,  0.2300,  0.1707],\n",
      "          [-0.1950, -0.1411,  0.0168]],\n",
      "\n",
      "         [[-0.0510,  0.0268, -0.1567],\n",
      "          [-0.1820,  0.0838, -0.0304],\n",
      "          [-0.0394, -0.2046,  0.1133]]]], requires_grad=True)\n",
      "Parameter containing:\n",
      "tensor([0.2030, 0.1676], requires_grad=True)\n"
     ]
    }
   ],
   "source": [
    "L_2D = torch.nn.Conv2d(2,2,(3,3),padding=2)\n",
    "L_2D(data_2D)\n",
    "print(L_2D.weight) #shape output, input, filter\n",
    "print(L_2D.bias) # shape of output channels"
   ]
  },
  {
   "cell_type": "code",
   "execution_count": 14,
   "id": "a892ce48-1d6e-44ff-aa27-949c9b2d2441",
   "metadata": {
    "tags": []
   },
   "outputs": [
    {
     "data": {
      "text/plain": [
       "tensor([[[[ 0.0978,  0.0023,  0.2088],\n",
       "          [-0.1285, -0.1027,  0.3782]],\n",
       "\n",
       "         [[-0.3139, -0.2280, -0.4354],\n",
       "          [-0.3096, -0.2045, -0.5880]],\n",
       "\n",
       "         [[-0.0614, -0.1981, -0.0240],\n",
       "          [-0.2034, -0.2412, -0.0250]],\n",
       "\n",
       "         [[ 0.4532,  0.1608,  0.1507],\n",
       "          [ 0.4251,  0.0396,  0.0650]],\n",
       "\n",
       "         [[ 0.2487, -0.0328,  0.1829],\n",
       "          [ 0.2567,  0.1777,  0.1154]]],\n",
       "\n",
       "\n",
       "        [[[ 0.1088,  0.0122,  0.1770],\n",
       "          [-0.0776, -0.0603,  0.3077]],\n",
       "\n",
       "         [[-0.3558, -0.2218, -0.3924],\n",
       "          [-0.2834, -0.2427, -0.5192]],\n",
       "\n",
       "         [[-0.1149, -0.1892, -0.0749],\n",
       "          [-0.1554, -0.2094,  0.0059]],\n",
       "\n",
       "         [[ 0.4536,  0.1109,  0.1444],\n",
       "          [ 0.3722,  0.0932,  0.1297]],\n",
       "\n",
       "         [[ 0.1946, -0.0095,  0.1563],\n",
       "          [ 0.2333,  0.1188,  0.1011]]],\n",
       "\n",
       "\n",
       "        [[[ 0.1939,  0.0026,  0.1148],\n",
       "          [-0.1170, -0.0138,  0.2669]],\n",
       "\n",
       "         [[-0.2889, -0.1473, -0.3287],\n",
       "          [-0.3223, -0.2947, -0.4380]],\n",
       "\n",
       "         [[-0.1786, -0.2512, -0.1914],\n",
       "          [-0.1778, -0.1343,  0.0256]],\n",
       "\n",
       "         [[ 0.4312,  0.0960,  0.0942],\n",
       "          [ 0.2952,  0.0703,  0.1946]],\n",
       "\n",
       "         [[ 0.2033, -0.0772,  0.1346],\n",
       "          [ 0.1077,  0.1802,  0.0264]]],\n",
       "\n",
       "\n",
       "        [[[ 0.1334,  0.0731,  0.1749],\n",
       "          [-0.0091, -0.0347,  0.2599]],\n",
       "\n",
       "         [[-0.2064, -0.1551, -0.2878],\n",
       "          [-0.2695, -0.1476, -0.4114]],\n",
       "\n",
       "         [[-0.0279, -0.1580, -0.0690],\n",
       "          [-0.2217, -0.2245, -0.1324]],\n",
       "\n",
       "         [[ 0.3505,  0.2328,  0.1574],\n",
       "          [ 0.3685,  0.0573,  0.0721]],\n",
       "\n",
       "         [[ 0.1250, -0.0708,  0.1200],\n",
       "          [ 0.1495,  0.0976,  0.0676]]]], grad_fn=<ConvolutionBackward0>)"
      ]
     },
     "execution_count": 14,
     "metadata": {},
     "output_type": "execute_result"
    }
   ],
   "source": [
    "L_2d = torch.nn.Conv2d(1,5,(7,3), padding=2)\n",
    "L_2d(torch.rand((4,1,4,1))) ##channels has to be the same size -> first argument of Conv2d and 2nd of input has to be the same"
   ]
  },
  {
   "cell_type": "markdown",
   "id": "5cb687d5",
   "metadata": {
    "id": "5cb687d5"
   },
   "source": [
    "* Create and test a `torch.nn.MaxPool2d` layer. Try several window sizes.\n",
    "* Do the same for a `torch.nn.AvgPool2d` layer."
   ]
  },
  {
   "cell_type": "code",
   "execution_count": 27,
   "id": "9f513060",
   "metadata": {
    "id": "9f513060"
   },
   "outputs": [
    {
     "name": "stdout",
     "output_type": "stream",
     "text": [
      "torch.Size([6, 1, 3, 3])\n",
      "\n",
      "torch.Size([6, 1, 2, 2])\n"
     ]
    },
    {
     "data": {
      "image/png": "[encoded data removed]",
      "text/plain": [
       "<Figure size 640x480 with 4 Axes>"
      ]
     },
     "metadata": {},
     "output_type": "display_data"
    }
   ],
   "source": [
    "B = 6\n",
    "C = 1\n",
    "H = 6\n",
    "W = 6\n",
    "data_2D = torch.rand(B,C,H,W)\n",
    "plt.figure()\n",
    "plt.subplot(121)\n",
    "plt.imshow(data_2D[0,0,:,:],vmin=0,vmax=1)\n",
    "plt.colorbar()\n",
    "plt.subplot(122)\n",
    "MPL = torch.nn.MaxPool2d((2,2))\n",
    "plt.imshow(MPL(data_2D)[0,0,:,:],vmin=0,vmax=1)\n",
    "plt.colorbar()\n",
    "print(MPL(data_2D).shape)\n",
    "print()\n",
    "data_2D = torch.rand(B,C,10,10)\n",
    "\n",
    "MPL = torch.nn.MaxPool2d((5,5))\n",
    "print(MPL(data_2D).shape)"
   ]
  },
  {
   "cell_type": "code",
   "execution_count": null,
   "id": "77b92994-f44a-4ce8-84e9-6efcae2f2566",
   "metadata": {},
   "outputs": [],
   "source": [
    "B = 6\n",
    "C = 1\n",
    "H = 6\n",
    "W = 6\n",
    "data_2D = torch.rand(B,C,H,W)\n",
    "plt.figure()\n",
    "plt.subplot(121)\n",
    "plt.imshow(data_2D[0,0,:,:],vmin=0,vmax=1)\n",
    "plt.colorbar()\n",
    "plt.subplot(122)\n",
    "APL = torch.nn.AvgPool2d((2,2))\n",
    "plt.imshow(APL(data_2D)[0,0,:,:],vmin=0,vmax=1)\n",
    "plt.colorbar()\n",
    "print(APL(data_2D).shape)\n",
    "print()\n",
    "\n",
    "\n",
    "data_2D = torch.rand(B,C,10,10)\n",
    "\n",
    "APL = torch.nn.AvgPool2d((5,5))\n",
    "print(APL(data_2D).shape)"
   ]
  },
  {
   "cell_type": "code",
   "execution_count": 34,
   "id": "b64d97d6-0278-44e8-8c57-181f28fc504f",
   "metadata": {
    "tags": []
   },
   "outputs": [
    {
     "name": "stdout",
     "output_type": "stream",
     "text": [
      "torch.Size([6, 1, 3, 3])\n",
      "\n",
      "torch.Size([6, 1, 2, 2])\n"
     ]
    },
    {
     "data": {
      "image/png": "[encoded data removed]",
      "text/plain": [
       "<Figure size 1000x400 with 3 Axes>"
      ]
     },
     "metadata": {},
     "output_type": "display_data"
    }
   ],
   "source": [
    "B = 6\n",
    "C = 1\n",
    "H = 6\n",
    "W = 6\n",
    "data_2D = torch.rand(B,C,H,W)\n",
    "plt.figure(figsize=(5*2,4),tight_layout=True)\n",
    "plt.subplot(121)\n",
    "plt.imshow(data_2D[0,0,:,:],vmin=0,vmax=1)\n",
    "#plt.colorbar()\n",
    "plt.subplot(122)\n",
    "APL = torch.nn.AvgPool2d((2,2))\n",
    "plt.imshow(APL(data_2D)[0,0,:,:],vmin=0,vmax=1)\n",
    "plt.colorbar()\n",
    "print(APL(data_2D).shape)\n",
    "print()\n",
    "\n",
    "\n",
    "data_2D = torch.rand(B,C,10,10)\n",
    "\n",
    "APL = torch.nn.AvgPool2d((5,5))\n",
    "print(APL(data_2D).shape)"
   ]
  },
  {
   "cell_type": "markdown",
   "id": "d8aa9e6f",
   "metadata": {
    "id": "d8aa9e6f"
   },
   "source": [
    "Try out the hyperbolic tangent function `torch.tanh`:\n",
    "* Plot its output as a function of its input in increments of 0.01 from -10 to 10\n",
    "* Plot the ReLU function on the same graph for comparison.\n",
    "* Can you speculate as to when one or the other activation function might be preferable?"
   ]
  },
  {
   "cell_type": "code",
   "execution_count": 43,
   "id": "92c40374",
   "metadata": {
    "id": "92c40374"
   },
   "outputs": [
    {
     "data": {
      "text/plain": [
       "<matplotlib.legend.Legend at 0x265b9b91240>"
      ]
     },
     "execution_count": 43,
     "metadata": {},
     "output_type": "execute_result"
    },
    {
     "data": {
      "image/png": "[encoded data removed]",
      "text/plain": [
       "<Figure size 640x480 with 1 Axes>"
      ]
     },
     "metadata": {},
     "output_type": "display_data"
    }
   ],
   "source": [
    "x = torch.arange(-10,10.01,0.01)\n",
    "plt.plot(x,torch.tanh(x),label=\"tanh(x)\")\n",
    "plt.plot(x,torch.nn.functional.relu(x),label=\"ReLU\")\n",
    "plt.legend()\n"
   ]
  },
  {
   "cell_type": "markdown",
   "id": "5afff069",
   "metadata": {
    "id": "5afff069"
   },
   "source": [
    "Download the sea surface temperature and upper ocean heat content fields for ENSO prediction. If you like, you can add these files to your google drive or local filesystem in the same place as your copy of this notebook, so that you won't have to install gdown and download them in the future whenever you restart this notebook."
   ]
  },
  {
   "cell_type": "markdown",
   "id": "46a0eaac-a83c-4d7c-b97f-f581f9b54ba3",
   "metadata": {},
   "source": [
    "# Load Data"
   ]
  },
  {
   "cell_type": "code",
   "execution_count": null,
   "id": "5ff09801",
   "metadata": {
    "id": "5ff09801"
   },
   "outputs": [],
   "source": [
    "# ! executes shell commands instead of python commands\n",
    "\n",
    "# library for downloading files from google drive.\n",
    "#!pip install gdown"
   ]
  },
  {
   "cell_type": "code",
   "execution_count": null,
   "id": "d5cf5e54",
   "metadata": {
    "id": "d5cf5e54"
   },
   "outputs": [],
   "source": [
    "# enso index data from previous exercises\n",
    "!gdown https://drive.google.com/uc?id=1FUb-2lcAd0Y1ULjx5jB6UTMNDmGy3vZA \n",
    "    \n",
    "# sea surface temperature and upper ocean heat content\n",
    "!gdown https://drive.google.com/uc?id=1TUFl4l4iEyIKTY1UnRD3G7fKElNMXjwo\n",
    "!gdown https://drive.google.com/uc?id=1PkDoopBJdYdiVt_clxnbDfuDGJGM0QSY"
   ]
  },
  {
   "cell_type": "markdown",
   "id": "441fc863",
   "metadata": {
    "id": "441fc863"
   },
   "source": [
    "Download the non-PCA data for ENSO prediction"
   ]
  },
  {
   "cell_type": "markdown",
   "id": "46ba944b",
   "metadata": {
    "id": "46ba944b"
   },
   "source": [
    "Now load the sea surface temperature data (`sst.nc`) using xarray."
   ]
  },
  {
   "cell_type": "code",
   "execution_count": 2,
   "id": "859846e8",
   "metadata": {
    "id": "859846e8"
   },
   "outputs": [],
   "source": [
    "import xarray as xr\n",
    "sst = xr.open_dataset(\"./data/sst.nc\",decode_times=False)"
   ]
  },
  {
   "cell_type": "markdown",
   "id": "4b0bebb8",
   "metadata": {
    "id": "4b0bebb8"
   },
   "source": [
    "Convert the sea surface temperatures to a tensor with 32 bit floating point data. "
   ]
  },
  {
   "cell_type": "code",
   "execution_count": 3,
   "id": "340a9689",
   "metadata": {
    "id": "340a9689"
   },
   "outputs": [],
   "source": [
    "sst_t = torch.tensor(sst.temp.values,dtype=torch.float32)"
   ]
  },
  {
   "cell_type": "markdown",
   "id": "fa055182",
   "metadata": {
    "id": "fa055182"
   },
   "source": [
    "Load the target ENSO index data."
   ]
  },
  {
   "cell_type": "code",
   "execution_count": 48,
   "id": "38054e97",
   "metadata": {
    "id": "38054e97"
   },
   "outputs": [],
   "source": [
    "# load the data\n",
    "with np.load('./data/enso_and_pca.npz') as data:    \n",
    "    enso_index = data['y']  # 3-month-moving-averaged Nino3.4 index\n",
    "    t_enso = data['t']  # months since jan. 1 1960 for the center of each 3-month window"
   ]
  },
  {
   "cell_type": "markdown",
   "id": "fbb1ab14",
   "metadata": {
    "id": "fbb1ab14"
   },
   "source": [
    "The ENSO index is a 3-month moving average, and we'll try to predict it from temperature fields of of the ocean 3 months before the center of the window. That means we have to throw out\n",
    "* The first few enso_index values, since we don't have ocean temperature fields 3 months earlier\n",
    "* The last few temperature fields, since we don't have enso_index values 3 months later\n",
    "\n",
    "Construct PyTorch tensors x and y for the temperature field in `sst` and the enso_index, so that `x[i]` was measured 3 months earlier than `y[i]`. Use as much of the data as you can, while dealing with the above-mentioned edge cases. To figure out the timing, compare `t_enso` and `sst.time`. Make sure `x` and `y` have a dtype of 32 bit floating point!"
   ]
  },
  {
   "cell_type": "code",
   "execution_count": 49,
   "id": "23ed6757",
   "metadata": {
    "id": "23ed6757"
   },
   "outputs": [
    {
     "name": "stdout",
     "output_type": "stream",
     "text": [
      "torch.Size([1232, 23, 72]) torch.Size([1232])\n",
      "torch.float32 torch.float32\n"
     ]
    }
   ],
   "source": [
    "x = sst_t[:-4]\n",
    "y = torch.tensor(enso_index[1:],dtype=torch.float32)\n",
    "print(x.shape,y.shape)\n",
    "print(x.dtype,y.dtype)"
   ]
  },
  {
   "cell_type": "code",
   "execution_count": 50,
   "id": "e93d75f7-4ea6-4e1c-947f-a7b95cd3cb96",
   "metadata": {
    "tags": []
   },
   "outputs": [
    {
     "name": "stdout",
     "output_type": "stream",
     "text": [
      "[-1064.5 -1063.5 -1062.5 ...   164.5   165.5   166.5]\n",
      "[-1067.5 -1066.5 -1065.5 ...   161.5   162.5   163.5]\n"
     ]
    }
   ],
   "source": [
    "print(t_enso[1:])\n",
    "print(sst.time.values[:-4])"
   ]
  },
  {
   "cell_type": "raw",
   "id": "c41d1e32-1375-4be1-8574-66dfdf52eaee",
   "metadata": {
    "id": "835f5cef"
   },
   "source": [
    "Normalize `x` and `y` to have a mean of zero and a standard deviation of 1. Don't normalize `x` separately for each location."
   ]
  },
  {
   "cell_type": "code",
   "execution_count": 51,
   "id": "2ee26fce-9ddf-4134-8d2f-0e54e23dc6f8",
   "metadata": {
    "tags": []
   },
   "outputs": [
    {
     "name": "stdout",
     "output_type": "stream",
     "text": [
      "torch.Size([1232, 23, 72]) torch.Size([1232])\n",
      "tensor(-1.8189e-08) tensor(-4.2575e-09)\n",
      "tensor(1.) tensor(1.0000)\n"
     ]
    }
   ],
   "source": [
    "x_norm = (x - torch.mean(x)) / torch.std(x)\n",
    "y_norm = (y - torch.mean(y))/ torch.std(y)\n",
    "print(x_norm.shape,y_norm.shape)\n",
    "print(torch.mean(x_norm),torch.mean(y_norm))\n",
    "print(torch.std(x_norm),torch.std(y_norm))"
   ]
  },
  {
   "cell_type": "markdown",
   "id": "c442f8fc",
   "metadata": {
    "id": "c442f8fc"
   },
   "source": [
    "To use 2d convolutions, we need to have a channel dimension for our input tensor, which should be of size `(n_batch, n_channels, n_rows, n_columns)`. Use `reshape` or `unsqueeze` to add a channel axis of size 1 to `x`. It should be in position one, after the batch axis (position 0) but before the spatial dimensions.\n",
    "\n",
    "Similarly, change `y` to have a second dimension of size 1, so that it has two dimensions total. This way it will match the output coming from out network."
   ]
  },
  {
   "cell_type": "code",
   "execution_count": 52,
   "id": "6528f592",
   "metadata": {
    "id": "6528f592"
   },
   "outputs": [
    {
     "name": "stdout",
     "output_type": "stream",
     "text": [
      "torch.Size([1232, 1, 23, 72])\n",
      "torch.Size([1232, 1])\n"
     ]
    }
   ],
   "source": [
    "x_norm1 = torch.unsqueeze(x_norm,1)\n",
    "print(x_norm1.shape)\n",
    "y_norm1 = torch.unsqueeze(y_norm,1)\n",
    "print(y_norm1.shape)"
   ]
  },
  {
   "cell_type": "markdown",
   "id": "6c1dfc37",
   "metadata": {
    "id": "6c1dfc37"
   },
   "source": [
    "Now create a TensorDataset and a dataloader from these tensors, just as we did in last week's exercises. Following Ham et al., we'll use a batch size of 400.\n",
    "\n",
    "We won't split training and testing data this time so we can focus on what's new, but keep in mind this is normally the right practice."
   ]
  },
  {
   "cell_type": "code",
   "execution_count": 82,
   "id": "b49486e0",
   "metadata": {
    "id": "b49486e0"
   },
   "outputs": [],
   "source": [
    "dataset = TensorDataset(x_norm1, y_norm1)  # combine the inputs and outputs into a PyTorch Dataset object\n",
    "# create a dataloader to serve up batches of 400 data point for training\n",
    "data_loader = DataLoader(dataset, batch_size=100, shuffle=True)"
   ]
  },
  {
   "cell_type": "markdown",
   "id": "14dcbb77",
   "metadata": {
    "id": "14dcbb77"
   },
   "source": [
    "Create a class defining your convolutional network.\n",
    "\n",
    "Add code to the `__init__` method to define the layers, and add code to the `forward` method to use them.\n",
    "* Start with a convolution with 30 output channels, and 'same' padding so that the image width and height are the same in the input and output. Use filters with a height of 4 and width of 8.\n",
    "* Then use a `tanh` nonlinearity\n",
    "* Next use a 2x2 maxpooling layer\n",
    "* Then another convolution with 30 outputs, filter height 2 and filter width 4.\n",
    "* Next another `tanh`\n",
    "* Now another 2x2 maxpooling layer\n",
    "* A third convolution with 30 outputs, filter height 2 and filter width 4\n",
    "* Now reshape the output so the batch dimension is unchanged, but all other dimensions are combined into one.\n",
    "* Now use a fully connected layer with 30 outputs\n",
    "* Now a `tanh`\n",
    "* Now a second fully connected layer with 1 output: that's  our $\\hat y$, which our forward method should return!"
   ]
  },
  {
   "cell_type": "code",
   "execution_count": null,
   "id": "28ed90bb-4b8e-47ed-97ea-f831fbdfe8e9",
   "metadata": {},
   "outputs": [],
   "source": []
  },
  {
   "cell_type": "code",
   "execution_count": 54,
   "id": "9223ccd7",
   "metadata": {
    "id": "9223ccd7"
   },
   "outputs": [],
   "source": [
    "# build the convnet from the paper\n",
    "class ConvNet(torch.nn.Module):\n",
    "    def __init__(self, input_channels=1, hidden_channels=30, hidden_units=30, n_outputs=1):\n",
    "        super(ConvNet, self).__init__()\n",
    "\n",
    "        self.first_conv   = torch.nn.Conv2d(input_channels,hidden_channels,(4,8),padding='same')\n",
    "        self.first_pool   = torch.nn.MaxPool2d((2,2))\n",
    "        self.second_conv  = torch.nn.Conv2d(hidden_channels,hidden_channels,(2,4),padding='same')\n",
    "        self.second_pool   = torch.nn.MaxPool2d((2,2))\n",
    "        self.third_conv  = torch.nn.Conv2d(hidden_channels,hidden_channels,(2,4),padding='same')\n",
    "        self.first_FC     = torch.nn.Linear(hidden_channels * 5 * 18, hidden_units)\n",
    "        self.second_FC    = torch.nn.Linear(hidden_units, n_outputs)\n",
    "        \n",
    "    def forward(self, x):\n",
    "        x = self.first_conv(x)\n",
    "        x = torch.tanh(x)\n",
    "        x = self.first_pool(x)\n",
    "        x = self.second_conv(x)\n",
    "        x = torch.tanh(x)\n",
    "        x = self.second_pool(x)\n",
    "        x = self.third_conv(x)\n",
    "        x = torch.tanh(x)\n",
    "        x = x.reshape(-1,30 * 5 * 18)\n",
    "        x = self.first_FC(x)\n",
    "        x = torch.tanh(x)\n",
    "        x = self.second_FC(x)\n",
    "\n",
    "        return x"
   ]
  },
  {
   "cell_type": "markdown",
   "id": "fa10a998",
   "metadata": {
    "id": "fa10a998"
   },
   "source": [
    "Create an instance of your network class.\n",
    "\n",
    "Pass a single batch of data through the network, and check that everything makes sense."
   ]
  },
  {
   "cell_type": "code",
   "execution_count": 55,
   "id": "65f8639d",
   "metadata": {
    "id": "65f8639d"
   },
   "outputs": [
    {
     "name": "stdout",
     "output_type": "stream",
     "text": [
      "torch.Size([100, 1])\n"
     ]
    }
   ],
   "source": [
    "conv = ConvNet()\n",
    "for x_batch, y_batch in data_loader:\n",
    "    test_x_batch = x_batch\n",
    "    test_y_batch = y_batch\n",
    "    break\n",
    "\n",
    "test_out = conv(test_x_batch)    \n",
    "print(test_out.shape)\n"
   ]
  },
  {
   "cell_type": "code",
   "execution_count": null,
   "id": "f04f8a94-0d7f-4148-b772-2f3d5c7ff515",
   "metadata": {},
   "outputs": [],
   "source": []
  },
  {
   "cell_type": "markdown",
   "id": "c0df0480",
   "metadata": {
    "id": "c0df0480"
   },
   "source": [
    "How many free parameters does your network have?"
   ]
  },
  {
   "cell_type": "code",
   "execution_count": 56,
   "id": "474dc776",
   "metadata": {
    "id": "474dc776"
   },
   "outputs": [
    {
     "data": {
      "text/plain": [
       "96390"
      ]
     },
     "execution_count": 56,
     "metadata": {},
     "output_type": "execute_result"
    }
   ],
   "source": [
    " FC_2 = 30*5*18*30 \n",
    "FC_1 = 30 * 1\n",
    "conv_1   = 1 * 30 * 4 * 8 \n",
    "conv_2_3 = 2*(30*30*2*4)\n",
    "\n",
    "FC_2 + FC_1 + conv_1 + conv_2_3"
   ]
  },
  {
   "cell_type": "markdown",
   "id": "d3118951",
   "metadata": {
    "id": "d3118951"
   },
   "source": [
    "Write a training loop.\n",
    "\n",
    "To avoid having to loop over trainable parameters, we'll use the optimizer class. We tell it once which parameters to update and what the learning rate is, then we can simply call `optimizer.step()` after calling `loss.backward()`, and all the parameters will be updated appropriately.\n",
    "\n",
    "**Important**: For the optimizer to work properly each convolutional or fully connected layer must be an attribute of your `net.object`, for example by calling `self.layer = torch.nn.Conv2d(...)` in your network's `__init__` method. If you want to use a list instead that's ok, but in that case include `self.layers_list = torch.nn.ModuleList(layers_list)` to make sure that the optimizer finds the parameters of these layers.\n",
    "\n",
    "Train your network over 100 epochs with a learning rate of 0.001. Keep track of the loss values and plot them at the end\n",
    "\n",
    "**Optional**: if you want training to go more quickly, use a GPU instance. Generally you'll get it for 12 hours, and it will disconnect if it goes idle for an hour.\n",
    "* In the colab menu, go to Runtime -> Change runtime type -> Hardware accelerator -> GPU and restart the colab notebook.\n",
    "* Use `print(torch.cuda.get_device_name(0))` to figure out what kind of GPU you have\n",
    "* Define `device = torch.device('cuda:0')`\n",
    "* Call `net = net.to(device)` and `x = x.to(device)` and `y = y.to(device)`. Create a new Dataset and Dataloader, and start training\n"
   ]
  },
  {
   "cell_type": "code",
   "execution_count": 83,
   "id": "8ee0b413",
   "metadata": {
    "id": "8ee0b413"
   },
   "outputs": [
    {
     "name": "stderr",
     "output_type": "stream",
     "text": [
      "100%|████████████████████████████████████████████████████████████████████████████████| 100/100 [02:29<00:00,  1.50s/it]\n"
     ]
    }
   ],
   "source": [
    "conv = ConvNet()\n",
    "n_epochs = 100\n",
    "learning_rate = 0.01  # adjust this if necessary\n",
    "\n",
    "lossfunc = torch.nn.MSELoss()\n",
    "#optimizer = torch.optim.SGD(net.parameters(), lr=learning_rate)\n",
    "optimizer = torch.optim.SGD(conv.parameters(), lr=learning_rate)\n",
    "Loss     = []\n",
    "\n",
    "for epoch in tqdm(range(n_epochs)):\n",
    "    for batch_index, batch in enumerate(data_loader):\n",
    "        # note that each time this loop is run through, the order of the data is randomly permuted!\n",
    "        x_batch, y_batch = batch\n",
    "        optimizer.zero_grad()\n",
    "\n",
    "        yhat_batch = conv(x_batch)\n",
    "        loss = lossfunc(y_batch,yhat_batch)\n",
    "        Loss.append(loss.detach().numpy())\n",
    "        \n",
    "        loss.backward()\n",
    "        torch.no_grad()\n",
    "        optimizer.step()  # this will update parameters using torch.no_grad()\n",
    "        #optimzer.zero_grad()"
   ]
  },
  {
   "cell_type": "code",
   "execution_count": 84,
   "id": "560939ee-092e-4f61-b63a-9a30311bcedf",
   "metadata": {
    "tags": []
   },
   "outputs": [
    {
     "data": {
      "text/plain": [
       "[<matplotlib.lines.Line2D at 0x2ba83285480>]"
      ]
     },
     "execution_count": 84,
     "metadata": {},
     "output_type": "execute_result"
    },
    {
     "data": {
      "image/png": "[encoded data removed]",
      "text/plain": [
       "<Figure size 640x480 with 1 Axes>"
      ]
     },
     "metadata": {},
     "output_type": "display_data"
    }
   ],
   "source": [
    "plt.plot(Loss)"
   ]
  },
  {
   "cell_type": "markdown",
   "id": "151db14c",
   "metadata": {
    "id": "151db14c"
   },
   "source": [
    "Plot the predictions $\\hat y$ against the targets $y$."
   ]
  },
  {
   "cell_type": "code",
   "execution_count": 85,
   "id": "c8ce28fe",
   "metadata": {
    "id": "c8ce28fe"
   },
   "outputs": [
    {
     "data": {
      "text/plain": [
       "<matplotlib.collections.PathCollection at 0x2ba83309450>"
      ]
     },
     "execution_count": 85,
     "metadata": {},
     "output_type": "execute_result"
    },
    {
     "data": {
      "image/png": "[encoded data removed]",
      "text/plain": [
       "<Figure size 640x480 with 1 Axes>"
      ]
     },
     "metadata": {},
     "output_type": "display_data"
    }
   ],
   "source": [
    "plt.scatter(conv(x_norm1).detach().numpy(),y_norm1.detach().numpy())"
   ]
  },
  {
   "cell_type": "markdown",
   "id": "2dbdfb34",
   "metadata": {
    "id": "2dbdfb34"
   },
   "source": [
    "Calculate the Pearson's correlation between your prediction and the target over the training data."
   ]
  },
  {
   "cell_type": "code",
   "execution_count": 86,
   "id": "89077d0e-27b3-4c70-9839-9d8eaa729bd4",
   "metadata": {
    "tags": []
   },
   "outputs": [],
   "source": [
    "yhat = conv(x_norm1).detach().numpy()"
   ]
  },
  {
   "cell_type": "code",
   "execution_count": 87,
   "id": "7a74c37d",
   "metadata": {
    "id": "7a74c37d"
   },
   "outputs": [
    {
     "data": {
      "text/plain": [
       "array([[1.        , 0.78856481],\n",
       "       [0.78856481, 1.        ]])"
      ]
     },
     "execution_count": 87,
     "metadata": {},
     "output_type": "execute_result"
    }
   ],
   "source": [
    "np.corrcoef(np.squeeze(yhat),np.squeeze(y_norm1.detach().numpy()))"
   ]
  },
  {
   "cell_type": "markdown",
   "id": "6aa122ea",
   "metadata": {
    "id": "6aa122ea"
   },
   "source": [
    "Load `hc.nc`, containing heat content of the upper ocean, and use it as a second input channel to the network. Does this improve performance on the training data?"
   ]
  },
  {
   "cell_type": "code",
   "execution_count": 29,
   "id": "ff1dc648",
   "metadata": {
    "id": "ff1dc648"
   },
   "outputs": [
    {
     "data": {
      "text/plain": [
       "torch.float32"
      ]
     },
     "execution_count": 29,
     "metadata": {},
     "output_type": "execute_result"
    }
   ],
   "source": [
    "hc = xr.open_dataset(\"./data/hc.nc\", decode_times=False)\n",
    "hc_tensor = torch.tensor(hc.temp.data, dtype=torch.float32)\n",
    "hc_tensor.dtype"
   ]
  },
  {
   "cell_type": "code",
   "execution_count": 31,
   "id": "4cf10362-4c5f-446d-985e-b9c371e7d145",
   "metadata": {
    "tags": []
   },
   "outputs": [
    {
     "data": {
      "text/plain": [
       "torch.Size([1232, 2, 23, 72])"
      ]
     },
     "execution_count": 31,
     "metadata": {},
     "output_type": "execute_result"
    }
   ],
   "source": [
    "z = hc_tensor[:-4]\n",
    "z_norm = (z - torch.mean(z)) / torch.std(z)\n",
    "\n",
    "#create dataset of sst and hc -> stack them together to get two dimensions\n",
    "x_z = torch.stack((x_norm, z_norm), axis = 1)\n",
    "x_z.shape\n"
   ]
  },
  {
   "cell_type": "code",
   "execution_count": 88,
   "id": "1c276643-ade7-4d24-b902-59b447e6e3fd",
   "metadata": {
    "tags": []
   },
   "outputs": [],
   "source": [
    "dataset2 = TensorDataset(x_z, y_norm1)  # combine the inputs and outputs into a PyTorch Dataset object\n",
    "# create a dataloader to serve up batches of 8 data point for training\n",
    "data_loader2 = DataLoader(dataset2, batch_size=100, shuffle=True)"
   ]
  },
  {
   "cell_type": "code",
   "execution_count": 41,
   "id": "448f6d4f-60ef-4761-aae5-5dd49e1850aa",
   "metadata": {
    "tags": []
   },
   "outputs": [],
   "source": [
    "conv2 = ConvNet(input_channels=2)"
   ]
  },
  {
   "cell_type": "code",
   "execution_count": 44,
   "id": "0796e83b-394f-4055-bee9-c61b08ca4c81",
   "metadata": {
    "tags": []
   },
   "outputs": [
    {
     "data": {
      "text/plain": [
       "torch.Size([100, 2, 23, 72])"
      ]
     },
     "execution_count": 44,
     "metadata": {},
     "output_type": "execute_result"
    }
   ],
   "source": [
    "test_x_batch.shape"
   ]
  },
  {
   "cell_type": "code",
   "execution_count": 43,
   "id": "30e06afc-19f2-4fc9-b542-0dea7ff3db3f",
   "metadata": {
    "tags": []
   },
   "outputs": [
    {
     "name": "stdout",
     "output_type": "stream",
     "text": [
      "torch.Size([100, 1])\n"
     ]
    }
   ],
   "source": [
    "\n",
    "for x_batch, y_batch in data_loader2:\n",
    "    test_x_batch = x_batch\n",
    "    test_y_batch = y_batch\n",
    "    break\n",
    "\n",
    "test_out = conv2(test_x_batch)    \n",
    "print(test_out.shape)"
   ]
  },
  {
   "cell_type": "code",
   "execution_count": 89,
   "id": "1c61064f-f867-4f52-bb58-651f73576684",
   "metadata": {
    "tags": []
   },
   "outputs": [
    {
     "name": "stderr",
     "output_type": "stream",
     "text": [
      "100%|████████████████████████████████████████████████████████████████████████████████| 100/100 [02:33<00:00,  1.53s/it]\n"
     ]
    }
   ],
   "source": [
    "conv2 = ConvNet(input_channels=2)\n",
    "n_epochs = 100\n",
    "learning_rate = 0.01  # adjust this if necessary\n",
    "\n",
    "lossfunc = torch.nn.MSELoss()\n",
    "#optimizer = torch.optim.SGD(net.parameters(), lr=learning_rate)\n",
    "optimizer = torch.optim.SGD(conv2.parameters(), lr=learning_rate)\n",
    "Loss2     = []\n",
    "\n",
    "for epoch in tqdm(range(n_epochs)):\n",
    "    for batch_index, batch in enumerate(data_loader2):\n",
    "        # note that each time this loop is run through, the order of the data is randomly permuted!\n",
    "        x_batch, y_batch = batch\n",
    "        optimizer.zero_grad()\n",
    "\n",
    "        yhat_batch = conv2(x_batch)\n",
    "        loss = lossfunc(y_batch,yhat_batch)\n",
    "        Loss2.append(loss.detach().numpy())\n",
    "        \n",
    "        loss.backward()\n",
    "        torch.no_grad()\n",
    "        optimizer.step()  # this will update parameters using torch.no_grad()\n",
    "        #optimzer.zero_grad()"
   ]
  },
  {
   "cell_type": "code",
   "execution_count": 90,
   "id": "04109224-f08e-48b2-9856-566493f36b59",
   "metadata": {
    "tags": []
   },
   "outputs": [
    {
     "data": {
      "text/plain": [
       "[<matplotlib.lines.Line2D at 0x2ba86d52fb0>]"
      ]
     },
     "execution_count": 90,
     "metadata": {},
     "output_type": "execute_result"
    },
    {
     "data": {
      "image/png": "[encoded data removed]",
      "text/plain": [
       "<Figure size 640x480 with 1 Axes>"
      ]
     },
     "metadata": {},
     "output_type": "display_data"
    }
   ],
   "source": [
    "plt.plot(Loss2)"
   ]
  },
  {
   "cell_type": "code",
   "execution_count": 91,
   "id": "2124ed67-42e5-4dff-b1d4-9876ba81db27",
   "metadata": {
    "tags": []
   },
   "outputs": [],
   "source": [
    "yhat2 = conv2(x_z).detach().numpy()"
   ]
  },
  {
   "cell_type": "code",
   "execution_count": 92,
   "id": "d744e776-c9c0-4121-8713-88ef5bf7d182",
   "metadata": {
    "tags": []
   },
   "outputs": [
    {
     "data": {
      "text/plain": [
       "<matplotlib.collections.PathCollection at 0x2ba86dedc00>"
      ]
     },
     "execution_count": 92,
     "metadata": {},
     "output_type": "execute_result"
    },
    {
     "data": {
      "image/png": "[encoded data removed]",
      "text/plain": [
       "<Figure size 640x480 with 1 Axes>"
      ]
     },
     "metadata": {},
     "output_type": "display_data"
    }
   ],
   "source": [
    "plt.scatter(yhat2,y_norm1.detach().numpy())"
   ]
  },
  {
   "cell_type": "code",
   "execution_count": 93,
   "id": "e5737358-df49-4749-a14d-4b9749e54ca1",
   "metadata": {
    "tags": []
   },
   "outputs": [
    {
     "data": {
      "text/plain": [
       "array([[1.        , 0.84285948],\n",
       "       [0.84285948, 1.        ]])"
      ]
     },
     "execution_count": 93,
     "metadata": {},
     "output_type": "execute_result"
    }
   ],
   "source": [
    "np.corrcoef(np.squeeze(yhat2),np.squeeze(y_norm1.detach().numpy()))"
   ]
  },
  {
   "cell_type": "markdown",
   "id": "e14ae5e0-f746-4993-a27c-a5529ef98ce2",
   "metadata": {},
   "source": [
    "performance was worse with 4000 and difference between one and two channels also smaller (~3%)"
   ]
  },
  {
   "cell_type": "markdown",
   "id": "e8845110",
   "metadata": {
    "id": "e8845110"
   },
   "source": [
    "**Optional** Include two previous time steps as input for a total of 6 input channels."
   ]
  },
  {
   "cell_type": "code",
   "execution_count": null,
   "id": "05812c87",
   "metadata": {
    "id": "05812c87"
   },
   "outputs": [],
   "source": []
  },
  {
   "cell_type": "markdown",
   "id": "fba04d5d",
   "metadata": {
    "id": "fba04d5d"
   },
   "source": [
    "In this case, we were able to load all of the training data into memory and store it in pytorch tensors. What if the training data were too big to fit into memory all at once? What could we do then? Propose a potential solution to this problem, and describe in words (or if you like, code) roughly how it would work."
   ]
  },
  {
   "cell_type": "markdown",
   "id": "3f470f19",
   "metadata": {
    "id": "3f470f19"
   },
   "source": []
  }
 ],
 "metadata": {
  "colab": {
   "provenance": []
  },
  "kernelspec": {
   "display_name": "Python 3 (ipykernel)",
   "language": "python",
   "name": "python3"
  },
  "language_info": {
   "codemirror_mode": {
    "name": "ipython",
    "version": 3
   },
   "file_extension": ".py",
   "mimetype": "text/x-python",
   "name": "python",
   "nbconvert_exporter": "python",
   "pygments_lexer": "ipython3",
   "version": "3.10.10"
  }
 },
 "nbformat": 4,
 "nbformat_minor": 5
}
