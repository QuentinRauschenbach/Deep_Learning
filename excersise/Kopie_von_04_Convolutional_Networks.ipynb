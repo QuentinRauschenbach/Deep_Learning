{
 "cells": [
  {
   "cell_type": "markdown",
   "id": "99728a55-f232-484a-bb0c-da03ff57f96d",
   "metadata": {},
   "source": [
    "# Convolutional Networks"
   ]
  },
  {
   "cell_type": "markdown",
   "id": "150fb896",
   "metadata": {
    "id": "150fb896"
   },
   "source": [
    "Let's start off by importing some packages we'll need."
   ]
  },
  {
   "cell_type": "code",
   "execution_count": 1,
   "id": "82b772eb",
   "metadata": {
    "id": "82b772eb",
    "tags": []
   },
   "outputs": [
    {
     "name": "stderr",
     "output_type": "stream",
     "text": [
      "C:\\Users\\qraus\\anaconda3\\envs\\deep_learning\\lib\\site-packages\\tqdm\\auto.py:21: TqdmWarning: IProgress not found. Please update jupyter and ipywidgets. See https://ipywidgets.readthedocs.io/en/stable/user_install.html\n",
      "  from .autonotebook import tqdm as notebook_tqdm\n"
     ]
    }
   ],
   "source": [
    "import numpy as np\n",
    "import xarray as xr\n",
    "from matplotlib import pyplot as plt\n",
    "from tqdm import tqdm\n",
    "import torch\n",
    "from torch.utils.data import TensorDataset, DataLoader"
   ]
  },
  {
   "cell_type": "markdown",
   "id": "e1c6b40f-56b2-479e-8a49-4e987f25b74b",
   "metadata": {},
   "source": [
    "## 1D Convolution Tests"
   ]
  },
  {
   "cell_type": "markdown",
   "id": "4bacee54",
   "metadata": {
    "id": "4bacee54"
   },
   "source": [
    "* *Create some random data of size (B, C, H) where B is a batch dimension, C is number of channels (start with 1) and H is height.*\n",
    "* *Create a 1D convolution layer `L` using `torch.nn.Conv1d`, with a 3-element filter. Start off with 1 input and output.*\n",
    "* *Inspect the free parameters of your layer using its `.weight` and `.bias` fields.*\n",
    "* *How many dimensions does `L.weight` have, and what do they all represent?*\n",
    "* *Set the bias and weights to all be zero. Set one weight to be 2. Apply your convolution layer to an input tensor and describe what happens.*\n",
    "* *How many dimensions did your input tensor need to have, and what does each represent?*"
   ]
  },
  {
   "cell_type": "markdown",
   "id": "aKoJvIpu6Idm",
   "metadata": {
    "id": "aKoJvIpu6Idm"
   },
   "source": [
    "* *Create some random data of size (B, C, H) where B is a batch dimension, C is number of channels (start with 1) and H is height.*"
   ]
  },
  {
   "cell_type": "code",
   "execution_count": 2,
   "id": "eb59a6e8",
   "metadata": {
    "id": "eb59a6e8",
    "tags": []
   },
   "outputs": [],
   "source": [
    "B = 5\n",
    "C = 1\n",
    "H = 5\n",
    "\n",
    "data = torch.rand((B,C,H))"
   ]
  },
  {
   "cell_type": "markdown",
   "id": "39e7ee4b-65a7-4abc-9c50-962fd04cdbe2",
   "metadata": {},
   "source": [
    "* *Create a 1D convolution layer `L` using `torch.nn.Conv1d`, with a 3-element filter. Start off with 1 input and output.*"
   ]
  },
  {
   "cell_type": "code",
   "execution_count": 3,
   "id": "ovuop-nX0wkv",
   "metadata": {
    "id": "ovuop-nX0wkv",
    "tags": []
   },
   "outputs": [],
   "source": [
    "L = torch.nn.Conv1d(C,1,3) # input channels, output channels, kernel/filter size"
   ]
  },
  {
   "cell_type": "markdown",
   "id": "8981a634-2bc6-4213-8d1f-919197b58a1f",
   "metadata": {},
   "source": [
    "* *Inspect the free parameters of your layer using its `.weight` and `.bias` fields.*"
   ]
  },
  {
   "cell_type": "code",
   "execution_count": 4,
   "id": "SzlnPOpe1v-3",
   "metadata": {
    "colab": {
     "base_uri": "https://localhost:8080/"
    },
    "id": "SzlnPOpe1v-3",
    "outputId": "caa3cd68-b521-4c4b-cf0e-80372004a43f",
    "tags": []
   },
   "outputs": [
    {
     "name": "stdout",
     "output_type": "stream",
     "text": [
      "Weights:\n",
      "Parameter containing:\n",
      "tensor([[[0.2982, 0.5017, 0.5572]]], requires_grad=True)\n",
      "torch.Size([1, 1, 3])\n"
     ]
    }
   ],
   "source": [
    "print(\"Weights:\")\n",
    "print(L.weight)\n",
    "print(L.weight.shape)"
   ]
  },
  {
   "cell_type": "code",
   "execution_count": 5,
   "id": "ro5xXYER2Mqa",
   "metadata": {
    "colab": {
     "base_uri": "https://localhost:8080/"
    },
    "id": "ro5xXYER2Mqa",
    "outputId": "9b12328a-643e-42a1-9db4-a05631007830",
    "tags": []
   },
   "outputs": [
    {
     "name": "stdout",
     "output_type": "stream",
     "text": [
      "Biases:\n",
      "Parameter containing:\n",
      "tensor([0.4212], requires_grad=True)\n",
      "torch.Size([1])\n"
     ]
    }
   ],
   "source": [
    "print(\"Biases:\")\n",
    "print(L.bias)\n",
    "print(L.bias.shape)"
   ]
  },
  {
   "cell_type": "markdown",
   "id": "afb7bb8c-9570-41b6-b0f2-858af21a60cc",
   "metadata": {},
   "source": [
    "* *How many dimensions does `L.weight` have, and what do they all represent?*"
   ]
  },
  {
   "cell_type": "markdown",
   "id": "b2b68d9a-57ec-4e35-a54a-794c584cfe79",
   "metadata": {},
   "source": [
    "`L.weight` has three dimensions with size (1,1,3). \\\n",
    "The first dimension corresponds to the number of output channels, the second one with the number of input channels and the last one with the kernel size."
   ]
  },
  {
   "cell_type": "markdown",
   "id": "mL9CqHBn6cpF",
   "metadata": {
    "id": "mL9CqHBn6cpF"
   },
   "source": [
    "* *Set the bias and weights to all be zero. Set one weight to be 2. Apply your convolution layer to an input tensor and describe what happens.*"
   ]
  },
  {
   "cell_type": "code",
   "execution_count": 8,
   "id": "UojMBupR6Qty",
   "metadata": {
    "colab": {
     "base_uri": "https://localhost:8080/"
    },
    "id": "UojMBupR6Qty",
    "outputId": "1a13e73a-0833-458b-9a44-00709763cbcb",
    "tags": []
   },
   "outputs": [
    {
     "name": "stdout",
     "output_type": "stream",
     "text": [
      "Parameter containing:\n",
      "tensor([[[0., 2., 0.]]], requires_grad=True)\n"
     ]
    }
   ],
   "source": [
    "L.weight.data = torch.zeros(L.weight.shape)\n",
    "L.bias.data = torch.zeros(L.bias.shape)\n",
    "\n",
    "L.weight.data[0,0,1] = torch.tensor([2.0])\n",
    "print(L.weight)\n"
   ]
  },
  {
   "cell_type": "code",
   "execution_count": 11,
   "id": "SpzQIAXJ-CKT",
   "metadata": {
    "colab": {
     "base_uri": "https://localhost:8080/"
    },
    "id": "SpzQIAXJ-CKT",
    "outputId": "b1167349-c82e-4e5a-8fc2-9e6bab48eedb",
    "tags": []
   },
   "outputs": [
    {
     "name": "stdout",
     "output_type": "stream",
     "text": [
      "Data: tensor([[[0.2490, 0.4248, 0.1710, 0.9634, 0.0238]],\n",
      "\n",
      "        [[0.7838, 0.5356, 0.8922, 0.0850, 0.9956]],\n",
      "\n",
      "        [[0.3652, 0.3308, 0.2255, 0.9803, 0.3099]],\n",
      "\n",
      "        [[0.0837, 0.4866, 0.4457, 0.0733, 0.8465]],\n",
      "\n",
      "        [[0.5592, 0.0566, 0.6436, 0.7486, 0.9338]]])\n",
      "\n",
      "Output: tensor([[[0.8496, 0.3419, 1.9267]],\n",
      "\n",
      "        [[1.0713, 1.7845, 0.1701]],\n",
      "\n",
      "        [[0.6615, 0.4509, 1.9606]],\n",
      "\n",
      "        [[0.9731, 0.8914, 0.1466]],\n",
      "\n",
      "        [[0.1132, 1.2872, 1.4971]]], grad_fn=<ConvolutionBackward0>)\n"
     ]
    }
   ],
   "source": [
    "print(\"Data:\",data)\n",
    "print()\n",
    "print(\"Output:\",L(data))"
   ]
  },
  {
   "cell_type": "markdown",
   "id": "9314e484-efa2-42ac-880d-e99d672d444e",
   "metadata": {},
   "source": [
    "The 5x1x5 input data gets reduced to 5x1x3 output data.\n",
    "\n",
    "**First, the first three entries of the first batch get multiplied with the weights and then summed up for the output.\n",
    "Since all but the second weight are zero, the second entry of the first data batch gets simply multiplied by two and written to the first place of the first 1x3 output batch.\n",
    "Then the kernel moves over by one spanning from the 2nd to 4th array entry, so now the third entry gets multiplied by two and written in the output in the second position and so on.**\n"
   ]
  },
  {
   "cell_type": "markdown",
   "id": "d2774a31-f9ab-4aba-8524-81fed6282c9d",
   "metadata": {},
   "source": [
    "* *How many dimensions did your input tensor need to have, and what does each represent?*"
   ]
  },
  {
   "cell_type": "markdown",
   "id": "e08ac81a-d340-493f-8d0a-96092452b159",
   "metadata": {},
   "source": [
    "The input tensor needs three dimensions. The first one is the batch dimension, the second for the channels and has to be of same size as the input channels from the convolution layer. Lastly, the third dimension is the height of our data point and needs to be equal or larger than kernel size (for padding=0)."
   ]
  },
  {
   "cell_type": "markdown",
   "id": "609abc03",
   "metadata": {
    "id": "609abc03"
   },
   "source": [
    "* *Create and test a convolution with multiple input and output channels.*"
   ]
  },
  {
   "cell_type": "code",
   "execution_count": 12,
   "id": "3a18a842",
   "metadata": {
    "id": "3a18a842",
    "tags": []
   },
   "outputs": [
    {
     "name": "stdout",
     "output_type": "stream",
     "text": [
      "tensor([[[-0.5645, -0.2745, -0.3737],\n",
      "         [ 0.2188, -0.0833, -0.2444],\n",
      "         [ 0.8021,  0.6949,  0.6492]],\n",
      "\n",
      "        [[-0.1498, -0.0973, -0.2662],\n",
      "         [-0.1795, -0.0405, -0.0628],\n",
      "         [ 0.8066,  0.7306,  0.5631]],\n",
      "\n",
      "        [[-0.2349, -0.5077, -0.4607],\n",
      "         [ 0.0329, -0.0766, -0.0348],\n",
      "         [ 0.6523,  0.4683,  0.7927]],\n",
      "\n",
      "        [[-0.5903, -0.3047, -0.1702],\n",
      "         [ 0.2518, -0.0942, -0.2358],\n",
      "         [ 0.6060,  0.9961,  0.9086]],\n",
      "\n",
      "        [[-0.5095, -0.0425, -0.3347],\n",
      "         [ 0.1988, -0.3546,  0.0608],\n",
      "         [ 0.4458,  0.6984,  0.7495]]], grad_fn=<ConvolutionBackward0>)\n"
     ]
    }
   ],
   "source": [
    "data2 = torch.rand(5,3,5)\n",
    "L2 = torch.nn.Conv1d(3,3,3)\n",
    "print(L2(data2))"
   ]
  },
  {
   "cell_type": "markdown",
   "id": "dcd5b3b7-3b5d-46cd-ab0d-5070acfdd897",
   "metadata": {},
   "source": [
    "## 2D Convolution"
   ]
  },
  {
   "cell_type": "markdown",
   "id": "1d36b067",
   "metadata": {
    "id": "1d36b067"
   },
   "source": [
    "* *Repeat the previous problem, but now for random input data of size (B, C, H, W) and a `torch.nn.Conv2d` layer with a 3x3 filter.*\n",
    "* *Go up to at least 2 inputs and outputs. What does each dimension of `L.weight` and `L.bias` mean now?*"
   ]
  },
  {
   "cell_type": "code",
   "execution_count": 21,
   "id": "a1870c19",
   "metadata": {
    "id": "a1870c19",
    "tags": []
   },
   "outputs": [
    {
     "name": "stdout",
     "output_type": "stream",
     "text": [
      "weights: torch.Size([4, 2, 3, 3])\n",
      "Parameter containing:\n",
      "tensor([[[[ 2.3070e-01,  1.5098e-01,  2.2397e-01],\n",
      "          [-8.4408e-02,  6.4493e-02, -1.5261e-01],\n",
      "          [-3.2601e-02, -2.4888e-03, -5.1975e-02]],\n",
      "\n",
      "         [[-4.4447e-02,  2.6913e-03,  1.6001e-01],\n",
      "          [-1.9170e-01, -1.4935e-01,  6.8672e-02],\n",
      "          [ 7.1819e-02, -1.3166e-01, -1.6647e-01]]],\n",
      "\n",
      "\n",
      "        [[[-2.0648e-01, -1.1309e-01, -1.3015e-01],\n",
      "          [ 1.5948e-01,  1.6393e-01,  1.0813e-01],\n",
      "          [-1.0233e-01, -2.2209e-01, -5.8245e-02]],\n",
      "\n",
      "         [[ 1.3125e-01, -1.5567e-01, -2.1542e-01],\n",
      "          [ 7.0159e-02, -1.6497e-01, -1.9199e-01],\n",
      "          [-1.7611e-01, -1.4380e-01, -2.0930e-01]]],\n",
      "\n",
      "\n",
      "        [[[-1.1689e-01, -1.1660e-04, -1.0144e-01],\n",
      "          [-4.8118e-02,  1.8003e-01,  1.4980e-01],\n",
      "          [-1.8924e-01,  5.5715e-02, -1.0871e-01]],\n",
      "\n",
      "         [[ 2.8703e-02, -2.3191e-01, -2.0684e-01],\n",
      "          [ 1.0779e-02, -5.5880e-02,  1.3689e-01],\n",
      "          [-4.5180e-02, -2.6874e-02, -1.4217e-01]]],\n",
      "\n",
      "\n",
      "        [[[-1.5130e-02, -2.2633e-01,  1.7632e-01],\n",
      "          [ 9.9133e-02,  1.7123e-01,  1.3407e-01],\n",
      "          [-2.2933e-01,  1.3757e-01, -1.6348e-01]],\n",
      "\n",
      "         [[-8.2672e-02,  1.9968e-01, -1.9559e-01],\n",
      "          [ 1.5297e-01, -2.1744e-01, -1.3943e-01],\n",
      "          [-1.3073e-01, -5.7568e-02, -1.1449e-01]]]], requires_grad=True)\n",
      "\n",
      "biases : torch.Size([4])\n",
      "Parameter containing:\n",
      "tensor([ 0.1068, -0.1586,  0.1720,  0.0629], requires_grad=True)\n"
     ]
    }
   ],
   "source": [
    "B = 5\n",
    "C = 2\n",
    "H = 5\n",
    "W = 5\n",
    "data_2D = torch.rand(B,C,H,W)\n",
    "\n",
    "L_2D = torch.nn.Conv2d(C,4,(3,3))\n",
    "out_2D = L_2D(data_2D)\n",
    "print(\"weights:\",L_2D.weight.shape) #shape output, input, filter\n",
    "print(L_2D.weight)\n",
    "print()\n",
    "print(\"biases :\",L_2D.bias.shape) # shape of output channels\n",
    "print(L_2D.bias)\n"
   ]
  },
  {
   "cell_type": "markdown",
   "id": "6cc12ab3-715a-4633-8e64-7fa76501a768",
   "metadata": {},
   "source": [
    "The weights now have a 4x2x3x3 shape (for my settings). Generally, as previously in the 1D case the first dimension is for the different output and the second one for the input channels. This time the last *two* dimensions are for the now 2D kernel.\n",
    "\n",
    "The bias tensor still has only one dimension with the length of the number of output channels."
   ]
  },
  {
   "cell_type": "markdown",
   "id": "9d05a3d8",
   "metadata": {
    "id": "9d05a3d8"
   },
   "source": [
    "* *Experiment with different modes for the `padding` argument to the Conv2d class. See the documentation [here](https://pytorch.org/docs/stable/generated/torch.nn.Conv2d.html).*"
   ]
  },
  {
   "cell_type": "code",
   "execution_count": 28,
   "id": "7473f9f3",
   "metadata": {
    "id": "7473f9f3"
   },
   "outputs": [
    {
     "data": {
      "text/plain": [
       "tensor([[[[-0.0320, -0.0127, -0.0856,  0.0028],\n",
       "          [ 0.0023, -0.2506, -0.2035, -0.0478],\n",
       "          [ 0.1345, -0.0913, -0.1314,  0.0007],\n",
       "          [ 0.2025,  0.0932, -0.2706,  0.0333],\n",
       "          [ 0.1871, -0.0009, -0.1953,  0.1745],\n",
       "          [ 0.2373,  0.0524, -0.0819,  0.1739]],\n",
       "\n",
       "         [[-0.2222, -0.1431, -0.0447, -0.1420],\n",
       "          [-0.0089, -0.1686, -0.1489, -0.1749],\n",
       "          [-0.2101, -0.1113, -0.2815, -0.3500],\n",
       "          [-0.3572, -0.0055,  0.0854, -0.3965],\n",
       "          [-0.1596, -0.1861, -0.1789, -0.3900],\n",
       "          [-0.3527, -0.2055, -0.3206, -0.2846]]],\n",
       "\n",
       "\n",
       "        [[[-0.0659, -0.0450, -0.0755, -0.0161],\n",
       "          [ 0.0696, -0.2888, -0.2186, -0.0972],\n",
       "          [ 0.2311, -0.1095, -0.3308, -0.0778],\n",
       "          [ 0.1379,  0.1779, -0.2911, -0.0418],\n",
       "          [ 0.1904,  0.2713, -0.2780,  0.0740],\n",
       "          [ 0.1249,  0.1126, -0.0638,  0.1328]],\n",
       "\n",
       "         [[-0.2574, -0.1672,  0.0171, -0.1192],\n",
       "          [ 0.0518, -0.1578, -0.1750, -0.1854],\n",
       "          [-0.1833, -0.1184, -0.1960, -0.4090],\n",
       "          [-0.1222, -0.2251,  0.0539, -0.5332],\n",
       "          [-0.1598, -0.1875, -0.0610, -0.4589],\n",
       "          [-0.2290, -0.2614, -0.1978, -0.2731]]]],\n",
       "       grad_fn=<ConvolutionBackward0>)"
      ]
     },
     "execution_count": 28,
     "metadata": {},
     "output_type": "execute_result"
    }
   ],
   "source": [
    "L_2D = torch.nn.Conv2d(2,2,(3,3),padding=2)\n",
    "L_2D(torch.rand((2,2,4,2)))"
   ]
  },
  {
   "cell_type": "code",
   "execution_count": 29,
   "id": "a892ce48-1d6e-44ff-aa27-949c9b2d2441",
   "metadata": {
    "tags": []
   },
   "outputs": [
    {
     "data": {
      "text/plain": [
       "tensor([[[[ 0.1898,  0.3107],\n",
       "          [-0.0380,  0.2282],\n",
       "          [ 0.2872,  0.2014],\n",
       "          [ 0.0826,  0.0900]],\n",
       "\n",
       "         [[ 0.0584, -0.2767],\n",
       "          [-0.2631, -0.4496],\n",
       "          [-0.1067, -0.5915],\n",
       "          [-0.2662, -0.3966]]],\n",
       "\n",
       "\n",
       "        [[[-0.0682,  0.2330],\n",
       "          [ 0.3100,  0.2621],\n",
       "          [-0.0273,  0.2006],\n",
       "          [ 0.3012, -0.0753]],\n",
       "\n",
       "         [[-0.1508, -0.3934],\n",
       "          [ 0.0820, -0.3582],\n",
       "          [-0.3340, -0.4944],\n",
       "          [-0.2117, -0.2909]]]], grad_fn=<ConvolutionBackward0>)"
      ]
     },
     "execution_count": 29,
     "metadata": {},
     "output_type": "execute_result"
    }
   ],
   "source": [
    "L_2D = torch.nn.Conv2d(2,2,(3,3),padding=1)\n",
    "L_2D(torch.rand((2,2,4,2)))"
   ]
  },
  {
   "cell_type": "markdown",
   "id": "6f2ab168-6c37-43f6-9219-24ee2481d8ea",
   "metadata": {},
   "source": [
    "## Pooling Layer Tests"
   ]
  },
  {
   "cell_type": "markdown",
   "id": "5cb687d5",
   "metadata": {
    "id": "5cb687d5"
   },
   "source": [
    "* *Create and test a `torch.nn.MaxPool2d` layer. Try several window sizes.*\n",
    "* *Do the same for a `torch.nn.AvgPool2d` layer.*"
   ]
  },
  {
   "cell_type": "code",
   "execution_count": 36,
   "id": "4b372433-6fc0-4064-8ab6-9b9ef61a2b48",
   "metadata": {
    "tags": []
   },
   "outputs": [],
   "source": [
    "def plot_pool(before,after,title,title_before=\"data\",title_after=\"max pool\"):\n",
    "    plt.figure(figsize=(4*2,3.5),tight_layout=True)\n",
    "    plt.subplot(121)\n",
    "    plt.imshow(before,vmin=0,vmax=1)\n",
    "    plt.axis('off')\n",
    "    plt.title(title_before)\n",
    "    plt.subplot(122)\n",
    "    plt.imshow(after,vmin=0,vmax=1)\n",
    "    plt.axis('off')\n",
    "    plt.title(title_after)\n",
    "    plt.colorbar()\n",
    "    plt.suptitle(\"window size: \"+title)"
   ]
  },
  {
   "cell_type": "code",
   "execution_count": 37,
   "id": "9719baae-8861-4f26-ad91-f70af266fd55",
   "metadata": {
    "tags": []
   },
   "outputs": [
    {
     "data": {
      "image/png": "[encoded data removed]",
      "text/plain": [
       "<Figure size 800x350 with 3 Axes>"
      ]
     },
     "metadata": {},
     "output_type": "display_data"
    },
    {
     "data": {
      "image/png": "[encoded data removed]",
      "text/plain": [
       "<Figure size 800x350 with 3 Axes>"
      ]
     },
     "metadata": {},
     "output_type": "display_data"
    }
   ],
   "source": [
    "B = 6\n",
    "C = 1\n",
    "H = 6\n",
    "W = 6\n",
    "data_2D = torch.rand(B,C,H,W)\n",
    "MPL = torch.nn.MaxPool2d((2,2))\n",
    "MPL2 = torch.nn.MaxPool2d((3,2))\n",
    "\n",
    "plot_pool(data_2D[0,0,:,:],MPL(data_2D)[0,0,:,:],\"2x2\")\n",
    "plot_pool(data_2D[0,0,:,:],MPL2(data_2D)[0,0,:,:],\"3x2\")"
   ]
  },
  {
   "cell_type": "code",
   "execution_count": 38,
   "id": "8fd7c32d-abb9-413d-9bdd-cec087f4a6ac",
   "metadata": {
    "tags": []
   },
   "outputs": [
    {
     "data": {
      "image/png": "[encoded data removed]",
      "text/plain": [
       "<Figure size 800x350 with 3 Axes>"
      ]
     },
     "metadata": {},
     "output_type": "display_data"
    },
    {
     "data": {
      "image/png": "[encoded data removed]",
      "text/plain": [
       "<Figure size 800x350 with 3 Axes>"
      ]
     },
     "metadata": {},
     "output_type": "display_data"
    }
   ],
   "source": [
    "APL = torch.nn.AvgPool2d((2,2))\n",
    "APL2 = torch.nn.AvgPool2d((3,2))\n",
    "\n",
    "plot_pool(data_2D[0,0,:,:],APL(data_2D)[0,0,:,:],\"2x2\",title_after=\"average pool\")\n",
    "plot_pool(data_2D[0,0,:,:],APL2(data_2D)[0,0,:,:],\"3x2\",title_after=\"average pool\")"
   ]
  },
  {
   "cell_type": "markdown",
   "id": "f94c0174-69e0-487f-ab18-e7ed3782de84",
   "metadata": {},
   "source": [
    "## Tanh(x) vs ReLU(x)"
   ]
  },
  {
   "cell_type": "markdown",
   "id": "d8aa9e6f",
   "metadata": {
    "id": "d8aa9e6f"
   },
   "source": [
    "*Try out the hyperbolic tangent function `torch.tanh`:*\n",
    "* *Plot its output as a function of its input in increments of 0.01 from -10 to 10*\n",
    "* *Plot the ReLU function on the same graph for comparison.*"
   ]
  },
  {
   "cell_type": "code",
   "execution_count": 39,
   "id": "92c40374",
   "metadata": {
    "id": "92c40374"
   },
   "outputs": [
    {
     "data": {
      "text/plain": [
       "<matplotlib.legend.Legend at 0x26969fbfee0>"
      ]
     },
     "execution_count": 39,
     "metadata": {},
     "output_type": "execute_result"
    },
    {
     "data": {
      "image/png": "[encoded data removed]",
      "text/plain": [
       "<Figure size 640x480 with 1 Axes>"
      ]
     },
     "metadata": {},
     "output_type": "display_data"
    }
   ],
   "source": [
    "x = torch.arange(-10,10.01,0.01)\n",
    "plt.plot(x,torch.tanh(x),label=\"tanh\")\n",
    "plt.plot(x,torch.nn.functional.relu(x),label=\"ReLU\")\n",
    "plt.legend()"
   ]
  },
  {
   "cell_type": "markdown",
   "id": "2d75a029-294b-417c-aa4d-fb2aac2b3eb8",
   "metadata": {},
   "source": [
    "* *Can you speculate as to when one or the other activation function might be preferable?*"
   ]
  },
  {
   "cell_type": "markdown",
   "id": "bbf48e5c-a5ee-44df-9759-b9041eb13df8",
   "metadata": {},
   "source": [
    "**tanh can produce negative numbers\n",
    "tanh is bounded and smooth and punktsymmetrisch\n",
    "Vanishing gradient problem.\n",
    "    gradient converges to zero oon both ends\n",
    "    \"In this case, the derivative near zero would make the gradient of the loss function very small, preventing the updating of the weights and thus the entire learning process.\"**\n",
    "\n",
    "Relu simpler especially the derivate**"
   ]
  },
  {
   "cell_type": "markdown",
   "id": "46a0eaac-a83c-4d7c-b97f-f581f9b54ba3",
   "metadata": {
    "tags": []
   },
   "source": [
    "# Load Data"
   ]
  },
  {
   "cell_type": "markdown",
   "id": "5afff069",
   "metadata": {
    "id": "5afff069"
   },
   "source": [
    "Download the sea surface temperature and upper ocean heat content fields for ENSO prediction. If you like, you can add these files to your google drive or local filesystem in the same place as your copy of this notebook, so that you won't have to install gdown and download them in the future whenever you restart this notebook."
   ]
  },
  {
   "cell_type": "code",
   "execution_count": null,
   "id": "5ff09801",
   "metadata": {
    "id": "5ff09801"
   },
   "outputs": [],
   "source": [
    "# ! executes shell commands instead of python commands\n",
    "\n",
    "# library for downloading files from google drive.\n",
    "#!pip install gdown"
   ]
  },
  {
   "cell_type": "code",
   "execution_count": null,
   "id": "d5cf5e54",
   "metadata": {
    "id": "d5cf5e54"
   },
   "outputs": [],
   "source": [
    "# enso index data from previous exercises\n",
    "!gdown https://drive.google.com/uc?id=1FUb-2lcAd0Y1ULjx5jB6UTMNDmGy3vZA \n",
    "    \n",
    "# sea surface temperature and upper ocean heat content\n",
    "!gdown https://drive.google.com/uc?id=1TUFl4l4iEyIKTY1UnRD3G7fKElNMXjwo\n",
    "!gdown https://drive.google.com/uc?id=1PkDoopBJdYdiVt_clxnbDfuDGJGM0QSY"
   ]
  },
  {
   "cell_type": "markdown",
   "id": "441fc863",
   "metadata": {
    "id": "441fc863"
   },
   "source": [
    "Download the non-PCA data for ENSO prediction"
   ]
  },
  {
   "cell_type": "markdown",
   "id": "46ba944b",
   "metadata": {
    "id": "46ba944b"
   },
   "source": [
    "Now load the sea surface temperature data (`sst.nc`) using xarray."
   ]
  },
  {
   "cell_type": "code",
   "execution_count": 126,
   "id": "859846e8",
   "metadata": {
    "id": "859846e8"
   },
   "outputs": [],
   "source": [
    "import xarray as xr\n",
    "sst = xr.open_dataset(\"./data/sst.nc\",decode_times=False)"
   ]
  },
  {
   "cell_type": "markdown",
   "id": "4b0bebb8",
   "metadata": {
    "id": "4b0bebb8"
   },
   "source": [
    "Convert the sea surface temperatures to a tensor with 32 bit floating point data. "
   ]
  },
  {
   "cell_type": "code",
   "execution_count": 127,
   "id": "340a9689",
   "metadata": {
    "id": "340a9689"
   },
   "outputs": [],
   "source": [
    "sst_t = torch.tensor(sst.temp.values,dtype=torch.float32)"
   ]
  },
  {
   "cell_type": "markdown",
   "id": "fa055182",
   "metadata": {
    "id": "fa055182"
   },
   "source": [
    "Load the target ENSO index data."
   ]
  },
  {
   "cell_type": "code",
   "execution_count": 128,
   "id": "38054e97",
   "metadata": {
    "id": "38054e97"
   },
   "outputs": [],
   "source": [
    "# load the data\n",
    "with np.load('./data/enso_and_pca.npz') as data:    \n",
    "    enso_index = data['y']  # 3-month-moving-averaged Nino3.4 index\n",
    "    t_enso = data['t']  # months since jan. 1 1960 for the center of each 3-month window"
   ]
  },
  {
   "cell_type": "markdown",
   "id": "fbb1ab14",
   "metadata": {
    "id": "fbb1ab14"
   },
   "source": [
    "The ENSO index is a 3-month moving average, and we'll try to predict it from temperature fields of of the ocean 3 months before the center of the window. That means we have to throw out\n",
    "* The first few enso_index values, since we don't have ocean temperature fields 3 months earlier\n",
    "* The last few temperature fields, since we don't have enso_index values 3 months later\n",
    "\n",
    "Construct PyTorch tensors x and y for the temperature field in `sst` and the enso_index, so that `x[i]` was measured 3 months earlier than `y[i]`. Use as much of the data as you can, while dealing with the above-mentioned edge cases. To figure out the timing, compare `t_enso` and `sst.time`. Make sure `x` and `y` have a dtype of 32 bit floating point!"
   ]
  },
  {
   "cell_type": "code",
   "execution_count": 129,
   "id": "23ed6757",
   "metadata": {
    "id": "23ed6757"
   },
   "outputs": [
    {
     "name": "stdout",
     "output_type": "stream",
     "text": [
      "torch.Size([1232, 23, 72]) torch.Size([1232])\n",
      "torch.float32 torch.float32\n"
     ]
    }
   ],
   "source": [
    "x = sst_t[:-4]\n",
    "y = torch.tensor(enso_index[1:],dtype=torch.float32)\n",
    "print(x.shape,y.shape)\n",
    "print(x.dtype,y.dtype)"
   ]
  },
  {
   "cell_type": "code",
   "execution_count": 130,
   "id": "e93d75f7-4ea6-4e1c-947f-a7b95cd3cb96",
   "metadata": {
    "tags": []
   },
   "outputs": [
    {
     "name": "stdout",
     "output_type": "stream",
     "text": [
      "[-1064.5 -1063.5 -1062.5 ...   164.5   165.5   166.5]\n",
      "[-1067.5 -1066.5 -1065.5 ...   161.5   162.5   163.5]\n"
     ]
    }
   ],
   "source": [
    "print(t_enso[1:])\n",
    "print(sst.time.values[:-4])"
   ]
  },
  {
   "cell_type": "markdown",
   "id": "02b53c29-dcf8-46e4-b1f4-149c7cb7d83d",
   "metadata": {
    "id": "835f5cef"
   },
   "source": [
    "Normalize `x` and `y` to have a mean of zero and a standard deviation of 1. Don't normalize `x` separately for each location."
   ]
  },
  {
   "cell_type": "code",
   "execution_count": 131,
   "id": "2ee26fce-9ddf-4134-8d2f-0e54e23dc6f8",
   "metadata": {
    "tags": []
   },
   "outputs": [
    {
     "name": "stdout",
     "output_type": "stream",
     "text": [
      "torch.Size([1232, 23, 72]) torch.Size([1232])\n",
      "tensor(-1.8189e-08) tensor(-4.2575e-09)\n",
      "tensor(1.) tensor(1.0000)\n"
     ]
    }
   ],
   "source": [
    "x_norm = (x - torch.mean(x)) / torch.std(x)\n",
    "y_norm = (y - torch.mean(y))/ torch.std(y)\n",
    "print(x_norm.shape,y_norm.shape)\n",
    "print(torch.mean(x_norm),torch.mean(y_norm))\n",
    "print(torch.std(x_norm),torch.std(y_norm))"
   ]
  },
  {
   "cell_type": "markdown",
   "id": "c442f8fc",
   "metadata": {
    "id": "c442f8fc"
   },
   "source": [
    "To use 2d convolutions, we need to have a channel dimension for our input tensor, which should be of size `(n_batch, n_channels, n_rows, n_columns)`. Use `reshape` or `unsqueeze` to add a channel axis of size 1 to `x`. It should be in position one, after the batch axis (position 0) but before the spatial dimensions.\n",
    "\n",
    "Similarly, change `y` to have a second dimension of size 1, so that it has two dimensions total. This way it will match the output coming from out network."
   ]
  },
  {
   "cell_type": "code",
   "execution_count": 132,
   "id": "6528f592",
   "metadata": {
    "id": "6528f592"
   },
   "outputs": [
    {
     "name": "stdout",
     "output_type": "stream",
     "text": [
      "torch.Size([1232, 1, 23, 72])\n",
      "torch.Size([1232, 1])\n"
     ]
    }
   ],
   "source": [
    "x_norm1 = torch.unsqueeze(x_norm,1)\n",
    "print(x_norm1.shape)\n",
    "y_norm1 = torch.unsqueeze(y_norm,1)\n",
    "print(y_norm1.shape)"
   ]
  },
  {
   "cell_type": "markdown",
   "id": "6c1dfc37",
   "metadata": {
    "id": "6c1dfc37"
   },
   "source": [
    "Now create a TensorDataset and a dataloader from these tensors, just as we did in last week's exercises. Following Ham et al., we'll use a batch size of 400.\n",
    "\n",
    "We won't split training and testing data this time so we can focus on what's new, but keep in mind this is normally the right practice."
   ]
  },
  {
   "cell_type": "code",
   "execution_count": 133,
   "id": "b49486e0",
   "metadata": {
    "id": "b49486e0"
   },
   "outputs": [],
   "source": [
    "dataset = TensorDataset(x_norm1, y_norm1)  # combine the inputs and outputs into a PyTorch Dataset object\n",
    "# create a dataloader to serve up batches of 400 data point for training\n",
    "data_loader = DataLoader(dataset, batch_size=400, shuffle=True)"
   ]
  },
  {
   "cell_type": "markdown",
   "id": "0b3bea54-fd34-4bbf-8a87-92d57b6d8192",
   "metadata": {},
   "source": [
    "# Convolutional network"
   ]
  },
  {
   "cell_type": "markdown",
   "id": "6c9c25ea-eee7-48b1-9adb-6ad58d7dd371",
   "metadata": {},
   "source": [
    "## 1 input channel"
   ]
  },
  {
   "cell_type": "markdown",
   "id": "14dcbb77",
   "metadata": {
    "id": "14dcbb77"
   },
   "source": [
    "Create a class defining your convolutional network.\n",
    "\n",
    "Add code to the `__init__` method to define the layers, and add code to the `forward` method to use them.\n",
    "* Start with a convolution with 30 output channels, and 'same' padding so that the image width and height are the same in the input and output. Use filters with a height of 4 and width of 8.\n",
    "* Then use a `tanh` nonlinearity\n",
    "* Next use a 2x2 maxpooling layer\n",
    "* Then another convolution with 30 outputs, filter height 2 and filter width 4.\n",
    "* Next another `tanh`\n",
    "* Now another 2x2 maxpooling layer\n",
    "* A third convolution with 30 outputs, filter height 2 and filter width 4\n",
    "* Now reshape the output so the batch dimension is unchanged, but all other dimensions are combined into one.\n",
    "* Now use a fully connected layer with 30 outputs\n",
    "* Now a `tanh`\n",
    "* Now a second fully connected layer with 1 output: that's  our $\\hat y$, which our forward method should return!"
   ]
  },
  {
   "cell_type": "code",
   "execution_count": 134,
   "id": "9223ccd7",
   "metadata": {
    "id": "9223ccd7"
   },
   "outputs": [],
   "source": [
    "# build the convnet from the paper\n",
    "class ConvNet(torch.nn.Module):\n",
    "    def __init__(self, input_channels=1, hidden_channels=30, hidden_units=30, n_outputs=1):\n",
    "        super(ConvNet, self).__init__()\n",
    "\n",
    "        self.first_conv  = torch.nn.Conv2d(input_channels,hidden_channels,(4,8),padding='same')\n",
    "        self.second_conv = torch.nn.Conv2d(hidden_channels,hidden_channels,(2,4),padding='same')\n",
    "        self.third_conv  = torch.nn.Conv2d(hidden_channels,hidden_channels,(2,4),padding='same')\n",
    "        self.first_pool  = torch.nn.MaxPool2d((2,2))\n",
    "        self.second_pool = torch.nn.MaxPool2d((2,2))\n",
    "        self.first_FC    = torch.nn.Linear(hidden_channels * 5 * 18, hidden_units)\n",
    "        self.second_FC   = torch.nn.Linear(hidden_units, n_outputs)\n",
    "        \n",
    "    def forward(self, x):\n",
    "        x = self.first_conv(x)\n",
    "        x = torch.tanh(x)\n",
    "        x = self.first_pool(x)\n",
    "        x = self.second_conv(x)\n",
    "        x = torch.tanh(x)\n",
    "        x = self.second_pool(x)\n",
    "        x = self.third_conv(x)\n",
    "        x = torch.tanh(x)\n",
    "        x = x.reshape(-1,30 * 5 * 18)\n",
    "        x = self.first_FC(x)\n",
    "        x = torch.tanh(x)\n",
    "        x = self.second_FC(x)\n",
    "\n",
    "        return x"
   ]
  },
  {
   "cell_type": "markdown",
   "id": "fa10a998",
   "metadata": {
    "id": "fa10a998"
   },
   "source": [
    "Create an instance of your network class.\n",
    "\n",
    "Pass a single batch of data through the network, and check that everything makes sense."
   ]
  },
  {
   "cell_type": "code",
   "execution_count": 135,
   "id": "65f8639d",
   "metadata": {
    "id": "65f8639d"
   },
   "outputs": [
    {
     "name": "stdout",
     "output_type": "stream",
     "text": [
      "torch.Size([400, 1])\n"
     ]
    }
   ],
   "source": [
    "conv = ConvNet()\n",
    "for x_batch, y_batch in data_loader:\n",
    "    test_x_batch = x_batch\n",
    "    test_y_batch = y_batch\n",
    "    break\n",
    "\n",
    "test_out = conv(test_x_batch)    \n",
    "print(test_out.shape)\n"
   ]
  },
  {
   "cell_type": "markdown",
   "id": "c0df0480",
   "metadata": {
    "id": "c0df0480"
   },
   "source": [
    "How many free parameters does your network have?"
   ]
  },
  {
   "cell_type": "code",
   "execution_count": 136,
   "id": "474dc776",
   "metadata": {
    "id": "474dc776"
   },
   "outputs": [
    {
     "name": "stdout",
     "output_type": "stream",
     "text": [
      "Number of free parameters: 96390\n"
     ]
    }
   ],
   "source": [
    "FC_2 = 30*5*18*30 \n",
    "FC_1 = 30 * 1\n",
    "conv_1   = 1 * 30 * 4 * 8 \n",
    "conv_2_3 = 2*(30*30*2*4)\n",
    "\n",
    "print(f\"Number of free parameters: {FC_2 + FC_1 + conv_1 + conv_2_3}\")"
   ]
  },
  {
   "cell_type": "markdown",
   "id": "d3118951",
   "metadata": {
    "id": "d3118951"
   },
   "source": [
    "Write a training loop.\n",
    "\n",
    "To avoid having to loop over trainable parameters, we'll use the optimizer class. We tell it once which parameters to update and what the learning rate is, then we can simply call `optimizer.step()` after calling `loss.backward()`, and all the parameters will be updated appropriately.\n",
    "\n",
    "**Important**: For the optimizer to work properly each convolutional or fully connected layer must be an attribute of your `net.object`, for example by calling `self.layer = torch.nn.Conv2d(...)` in your network's `__init__` method. If you want to use a list instead that's ok, but in that case include `self.layers_list = torch.nn.ModuleList(layers_list)` to make sure that the optimizer finds the parameters of these layers.\n",
    "\n",
    "Train your network over 100 epochs with a learning rate of 0.001. Keep track of the loss values and plot them at the end\n",
    "\n",
    "**Optional**: if you want training to go more quickly, use a GPU instance. Generally you'll get it for 12 hours, and it will disconnect if it goes idle for an hour.\n",
    "* In the colab menu, go to Runtime -> Change runtime type -> Hardware accelerator -> GPU and restart the colab notebook.\n",
    "* Use `print(torch.cuda.get_device_name(0))` to figure out what kind of GPU you have\n",
    "* Define `device = torch.device('cuda:0')`\n",
    "* Call `net = net.to(device)` and `x = x.to(device)` and `y = y.to(device)`. Create a new Dataset and Dataloader, and start training\n"
   ]
  },
  {
   "cell_type": "code",
   "execution_count": 137,
   "id": "8ee0b413",
   "metadata": {
    "id": "8ee0b413"
   },
   "outputs": [
    {
     "name": "stderr",
     "output_type": "stream",
     "text": [
      "100%|████████████████████████████████████████████████████████████████████████████████| 100/100 [02:12<00:00,  1.33s/it]\n"
     ]
    }
   ],
   "source": [
    "conv = ConvNet()\n",
    "n_epochs = 100\n",
    "learning_rate = 0.01  # adjust this if necessary\n",
    "\n",
    "lossfunc = torch.nn.MSELoss()\n",
    "#optimizer = torch.optim.SGD(net.parameters(), lr=learning_rate)\n",
    "optimizer = torch.optim.SGD(conv.parameters(), lr=learning_rate)\n",
    "Loss     = []\n",
    "\n",
    "for epoch in tqdm(range(n_epochs)):\n",
    "    for batch_index, batch in enumerate(data_loader):\n",
    "        # note that each time this loop is run through, the order of the data is randomly permuted!\n",
    "        x_batch, y_batch = batch\n",
    "        optimizer.zero_grad()\n",
    "\n",
    "        yhat_batch = conv(x_batch)\n",
    "        loss = lossfunc(y_batch,yhat_batch)\n",
    "        Loss.append(loss.detach().numpy())\n",
    "        \n",
    "        loss.backward()\n",
    "        torch.no_grad()\n",
    "        optimizer.step()  # this will update parameters using torch.no_grad()\n",
    "        #optimzer.zero_grad()"
   ]
  },
  {
   "cell_type": "code",
   "execution_count": 138,
   "id": "560939ee-092e-4f61-b63a-9a30311bcedf",
   "metadata": {
    "tags": []
   },
   "outputs": [
    {
     "data": {
      "text/plain": [
       "Text(0.5, 1.0, 'Loss')"
      ]
     },
     "execution_count": 138,
     "metadata": {},
     "output_type": "execute_result"
    },
    {
     "data": {
      "image/png": "[encoded data removed]",
      "text/plain": [
       "<Figure size 640x480 with 1 Axes>"
      ]
     },
     "metadata": {},
     "output_type": "display_data"
    }
   ],
   "source": [
    "plt.plot(Loss) # I changed the batch size down to 100. Converges at least visually better and also produces yhat with larger correlations\n",
    "plt.title(\"Loss\")"
   ]
  },
  {
   "cell_type": "markdown",
   "id": "151db14c",
   "metadata": {
    "id": "151db14c"
   },
   "source": [
    "Plot the predictions $\\hat y$ against the targets $y$."
   ]
  },
  {
   "cell_type": "code",
   "execution_count": 139,
   "id": "c8ce28fe",
   "metadata": {
    "id": "c8ce28fe"
   },
   "outputs": [
    {
     "data": {
      "text/plain": [
       "Text(0, 0.5, 'y')"
      ]
     },
     "execution_count": 139,
     "metadata": {},
     "output_type": "execute_result"
    },
    {
     "data": {
      "image/png": "[encoded data removed]",
      "text/plain": [
       "<Figure size 640x480 with 1 Axes>"
      ]
     },
     "metadata": {},
     "output_type": "display_data"
    }
   ],
   "source": [
    "yhat = conv(x_norm1).detach().numpy()\n",
    "plt.scatter(yhat,y_norm1.detach().numpy())\n",
    "plt.xlabel(\"yhat\")\n",
    "plt.ylabel(\"y\")"
   ]
  },
  {
   "cell_type": "markdown",
   "id": "2dbdfb34",
   "metadata": {
    "id": "2dbdfb34"
   },
   "source": [
    "Calculate the Pearson's correlation between your prediction and the target over the training data."
   ]
  },
  {
   "cell_type": "code",
   "execution_count": 140,
   "id": "7a74c37d",
   "metadata": {
    "id": "7a74c37d"
   },
   "outputs": [
    {
     "data": {
      "text/plain": [
       "array([[1.        , 0.63782141],\n",
       "       [0.63782141, 1.        ]])"
      ]
     },
     "execution_count": 140,
     "metadata": {},
     "output_type": "execute_result"
    }
   ],
   "source": [
    "np.corrcoef(np.squeeze(yhat),np.squeeze(y_norm1.detach().numpy()))"
   ]
  },
  {
   "cell_type": "markdown",
   "id": "9469c108-bc39-4131-816e-db121c713da1",
   "metadata": {},
   "source": [
    "## 2 input channels"
   ]
  },
  {
   "cell_type": "markdown",
   "id": "6aa122ea",
   "metadata": {
    "id": "6aa122ea"
   },
   "source": [
    "Load `hc.nc`, containing heat content of the upper ocean, and use it as a second input channel to the network. Does this improve performance on the training data?"
   ]
  },
  {
   "cell_type": "code",
   "execution_count": 141,
   "id": "ff1dc648",
   "metadata": {
    "id": "ff1dc648"
   },
   "outputs": [
    {
     "name": "stdout",
     "output_type": "stream",
     "text": [
      "[-1064.5 -1063.5 -1062.5 ...   164.5   165.5   166.5]\n",
      "[-1067.5 -1066.5 -1065.5 ...   161.5   162.5   163.5]\n",
      "[-1067.5 -1066.5 -1065.5 ...   161.5   162.5   163.5]\n"
     ]
    }
   ],
   "source": [
    "hc = xr.open_dataset(\"./data/hc.nc\", decode_times=False)\n",
    "hc_t = torch.tensor(hc.temp.data, dtype=torch.float32)\n",
    "\n",
    "print(t_enso[1:])\n",
    "print(sst.time.values[:-4])\n",
    "print(hc.time.values[:-4])"
   ]
  },
  {
   "cell_type": "code",
   "execution_count": 142,
   "id": "4cf10362-4c5f-446d-985e-b9c371e7d145",
   "metadata": {
    "tags": []
   },
   "outputs": [
    {
     "data": {
      "text/plain": [
       "torch.Size([1232, 2, 23, 72])"
      ]
     },
     "execution_count": 142,
     "metadata": {},
     "output_type": "execute_result"
    }
   ],
   "source": [
    "z = hc_t[:-4]\n",
    "z_norm = (z - torch.mean(z)) / torch.std(z)\n",
    "\n",
    "# stack sst and hc\n",
    "x_z = torch.stack((x_norm, z_norm), axis = 1)\n",
    "x_z.shape\n"
   ]
  },
  {
   "cell_type": "code",
   "execution_count": 145,
   "id": "1c276643-ade7-4d24-b902-59b447e6e3fd",
   "metadata": {
    "tags": []
   },
   "outputs": [],
   "source": [
    "dataset2 = TensorDataset(x_z, y_norm1)  # combine the inputs and outputs into a PyTorch Dataset object\n",
    "data_loader2 = DataLoader(dataset2, batch_size=400, shuffle=True)"
   ]
  },
  {
   "cell_type": "code",
   "execution_count": 146,
   "id": "30e06afc-19f2-4fc9-b542-0dea7ff3db3f",
   "metadata": {
    "tags": []
   },
   "outputs": [
    {
     "name": "stdout",
     "output_type": "stream",
     "text": [
      "torch.Size([400, 1])\n"
     ]
    }
   ],
   "source": [
    "conv2 = ConvNet(input_channels=2)\n",
    "for x_batch, y_batch in data_loader2:\n",
    "    test_x_batch = x_batch\n",
    "    test_y_batch = y_batch\n",
    "    break\n",
    "\n",
    "test_out = conv2(test_x_batch)    \n",
    "print(test_out.shape)"
   ]
  },
  {
   "cell_type": "code",
   "execution_count": 147,
   "id": "1c61064f-f867-4f52-bb58-651f73576684",
   "metadata": {
    "tags": []
   },
   "outputs": [
    {
     "name": "stderr",
     "output_type": "stream",
     "text": [
      "100%|████████████████████████████████████████████████████████████████████████████████| 100/100 [02:04<00:00,  1.25s/it]\n"
     ]
    }
   ],
   "source": [
    "conv2 = ConvNet(input_channels=2)\n",
    "n_epochs = 100\n",
    "learning_rate = 0.01  # adjust this if necessary\n",
    "\n",
    "lossfunc = torch.nn.MSELoss()\n",
    "#optimizer = torch.optim.SGD(net.parameters(), lr=learning_rate)\n",
    "optimizer = torch.optim.SGD(conv2.parameters(), lr=learning_rate)\n",
    "Loss2     = []\n",
    "\n",
    "for epoch in tqdm(range(n_epochs)):\n",
    "    for batch_index, batch in enumerate(data_loader2):\n",
    "        # note that each time this loop is run through, the order of the data is randomly permuted!\n",
    "        x_batch, y_batch = batch\n",
    "        optimizer.zero_grad()\n",
    "\n",
    "        yhat_batch = conv2(x_batch)\n",
    "        loss = lossfunc(y_batch,yhat_batch)\n",
    "        Loss2.append(loss.detach().numpy())\n",
    "        \n",
    "        loss.backward()\n",
    "        torch.no_grad()\n",
    "        optimizer.step()  # this will update parameters using torch.no_grad()\n",
    "        #optimzer.zero_grad()"
   ]
  },
  {
   "cell_type": "code",
   "execution_count": 148,
   "id": "04109224-f08e-48b2-9856-566493f36b59",
   "metadata": {
    "tags": []
   },
   "outputs": [
    {
     "data": {
      "text/plain": [
       "Text(0.5, 1.0, 'Loss')"
      ]
     },
     "execution_count": 148,
     "metadata": {},
     "output_type": "execute_result"
    },
    {
     "data": {
      "image/png": "[encoded data removed]",
      "text/plain": [
       "<Figure size 640x480 with 1 Axes>"
      ]
     },
     "metadata": {},
     "output_type": "display_data"
    }
   ],
   "source": [
    "plt.plot(Loss2)\n",
    "plt.title(\"Loss\")"
   ]
  },
  {
   "cell_type": "code",
   "execution_count": 149,
   "id": "2124ed67-42e5-4dff-b1d4-9876ba81db27",
   "metadata": {
    "tags": []
   },
   "outputs": [],
   "source": [
    "yhat2 = conv2(x_z).detach().numpy()"
   ]
  },
  {
   "cell_type": "code",
   "execution_count": 150,
   "id": "d744e776-c9c0-4121-8713-88ef5bf7d182",
   "metadata": {
    "tags": []
   },
   "outputs": [
    {
     "data": {
      "text/plain": [
       "Text(0, 0.5, 'y')"
      ]
     },
     "execution_count": 150,
     "metadata": {},
     "output_type": "execute_result"
    },
    {
     "data": {
      "image/png": "[encoded data removed]",
      "text/plain": [
       "<Figure size 640x480 with 1 Axes>"
      ]
     },
     "metadata": {},
     "output_type": "display_data"
    }
   ],
   "source": [
    "plt.scatter(yhat2,y_norm1.detach().numpy())\n",
    "plt.xlabel(\"yhat\")\n",
    "plt.ylabel(\"y\")"
   ]
  },
  {
   "cell_type": "code",
   "execution_count": 151,
   "id": "e5737358-df49-4749-a14d-4b9749e54ca1",
   "metadata": {
    "tags": []
   },
   "outputs": [
    {
     "data": {
      "text/plain": [
       "array([[1.        , 0.67775479],\n",
       "       [0.67775479, 1.        ]])"
      ]
     },
     "execution_count": 151,
     "metadata": {},
     "output_type": "execute_result"
    }
   ],
   "source": [
    "np.corrcoef(np.squeeze(yhat2),np.squeeze(y_norm1.detach().numpy()))"
   ]
  },
  {
   "cell_type": "markdown",
   "id": "44a3a759-9f7b-4a58-b39a-f58b82ed2867",
   "metadata": {},
   "source": [
    "Using the heat content slightly increases the performance. However, not much more than experimenting with batch size and learning rate did for the one channel case. Also the amount of improvment of the correlation going from one to two input channels changes with batch size and learning rate."
   ]
  },
  {
   "cell_type": "markdown",
   "id": "f5af0982-cd5d-4eb3-85e7-1a7df5fbf055",
   "metadata": {},
   "source": [
    "## 6 input channels"
   ]
  },
  {
   "cell_type": "markdown",
   "id": "e8845110",
   "metadata": {
    "id": "e8845110"
   },
   "source": [
    "**Optional** Include two previous time steps as input for a total of 6 input channels."
   ]
  },
  {
   "cell_type": "code",
   "execution_count": 153,
   "id": "bde265f3-cce2-48b4-830c-8ef5a7dfc25c",
   "metadata": {
    "tags": []
   },
   "outputs": [
    {
     "name": "stdout",
     "output_type": "stream",
     "text": [
      "[-1062.5 -1061.5 -1060.5 ...   164.5   165.5   166.5] (1230,)\n",
      "[-1065.5 -1064.5 -1063.5 ...   161.5   162.5   163.5] (1230,)\n",
      "[-1065.5 -1064.5 -1063.5 ...   161.5   162.5   163.5] (1230,)\n",
      "[-1066.5 -1065.5 -1064.5 ...   162.5   163.5   164.5] (1230,)\n",
      "[-1066.5 -1065.5 -1064.5 ...   162.5   163.5   164.5] (1230,)\n",
      "[-1067.5 -1066.5 -1065.5 ...   163.5   164.5   165.5] (1230,)\n",
      "[-1067.5 -1066.5 -1065.5 ...   163.5   164.5   165.5] (1230,)\n"
     ]
    }
   ],
   "source": [
    "print(t_enso[3:],t_enso[3:].shape)\n",
    "for t in range(3):\n",
    "    print(sst.time.values[2-t:-4+t],sst.time.values[2-t:-(4+t)].shape)\n",
    "    print(hc.time.values[2-t:-4+t],hc.time.values[2-t:-(4+t)].shape)"
   ]
  },
  {
   "cell_type": "code",
   "execution_count": 155,
   "id": "05812c87",
   "metadata": {
    "id": "05812c87",
    "tags": []
   },
   "outputs": [
    {
     "name": "stdout",
     "output_type": "stream",
     "text": [
      "torch.Size([1230])\n",
      "torch.Size([1230, 1])\n",
      "torch.Size([1230, 1, 23, 72])\n",
      "torch.Size([1230, 2, 23, 72])\n",
      "torch.Size([1230, 3, 23, 72])\n",
      "torch.Size([1230, 4, 23, 72])\n",
      "torch.Size([1230, 5, 23, 72])\n",
      "torch.Size([1230, 6, 23, 72])\n",
      "\n",
      "torch.Size([1230, 6, 23, 72]) torch.Size([1230, 1])\n"
     ]
    }
   ],
   "source": [
    "y2 = torch.tensor(enso_index[3:],dtype=torch.float32)\n",
    "y2_norm = (y2 - torch.mean(y2))/ torch.std(y2)\n",
    "print(y2_norm.shape)\n",
    "y2_norm1 = torch.unsqueeze(y2_norm,1)\n",
    "print(y2_norm1.shape)\n",
    "\n",
    "x2 = torch.tensor(sst.temp.values[2:-4],dtype=torch.float32)\n",
    "x2_norm = (sst_t2 - torch.mean(sst_t2)) / torch.std(sst_t2)\n",
    "x2_norm1 = torch.unsqueeze(x2_norm,1)\n",
    "print(x2_norm1.shape)\n",
    "for t in range(1,3):\n",
    "    sst_t2 = torch.tensor(sst.temp.values[2-t:-(4+t)],dtype=torch.float32)\n",
    "    sst_norm = torch.unsqueeze((sst_t2 - torch.mean(sst_t2)) / torch.std(sst_t2), 1)\n",
    "    x2_norm1 = torch.cat((x2_norm1, sst_norm), axis = 1)\n",
    "    print(x2_norm1.shape)\n",
    "for t in range(3):\n",
    "    hc_t2 = torch.tensor(sst.temp.values[2-t:-(4+t)],dtype=torch.float32)\n",
    "    hc_norm = torch.unsqueeze((hc_t2 - torch.mean(hc_t2)) / torch.std(hc_t2), 1)\n",
    "    x2_norm1 = torch.cat((x2_norm1, hc_norm), axis = 1)\n",
    "    print(x2_norm1.shape)\n",
    "print()\n",
    "\n",
    "print(x2_norm1.shape, y2_norm1.shape)\n",
    "dataset3 = TensorDataset(x2_norm1, y2_norm1)  # combine the inputs and outputs into a PyTorch Dataset object\n",
    "data_loader3 = DataLoader(dataset3, batch_size=400, shuffle=True)"
   ]
  },
  {
   "cell_type": "code",
   "execution_count": 156,
   "id": "d6627606-4647-40d5-8d82-5616b1c01df6",
   "metadata": {
    "tags": []
   },
   "outputs": [
    {
     "name": "stdout",
     "output_type": "stream",
     "text": [
      "torch.Size([400, 1])\n"
     ]
    }
   ],
   "source": [
    "conv3 = ConvNet(input_channels=6)\n",
    "for x_batch, y_batch in data_loader3:\n",
    "    test_x_batch = x_batch\n",
    "    test_y_batch = y_batch\n",
    "    break\n",
    "\n",
    "test_out = conv3(test_x_batch)    \n",
    "print(test_out.shape)"
   ]
  },
  {
   "cell_type": "code",
   "execution_count": 157,
   "id": "42c2eb73-f120-4fdd-a7ef-20e04ee895a4",
   "metadata": {
    "tags": []
   },
   "outputs": [
    {
     "name": "stderr",
     "output_type": "stream",
     "text": [
      "100%|████████████████████████████████████████████████████████████████████████████████| 100/100 [02:05<00:00,  1.25s/it]\n"
     ]
    }
   ],
   "source": [
    "conv3 = ConvNet(input_channels=6)\n",
    "n_epochs = 100\n",
    "learning_rate = 0.01  # adjust this if necessary\n",
    "\n",
    "lossfunc = torch.nn.MSELoss()\n",
    "optimizer = torch.optim.SGD(conv3.parameters(), lr=learning_rate)\n",
    "Loss3     = []\n",
    "\n",
    "for epoch in tqdm(range(n_epochs)):\n",
    "    for batch_index, batch in enumerate(data_loader3):\n",
    "        # note that each time this loop is run through, the order of the data is randomly permuted!\n",
    "        x_batch, y_batch = batch\n",
    "        optimizer.zero_grad()\n",
    "\n",
    "        yhat_batch = conv3(x_batch)\n",
    "        loss = lossfunc(y_batch,yhat_batch)\n",
    "        Loss3.append(loss.detach().numpy())\n",
    "        \n",
    "        loss.backward()\n",
    "        torch.no_grad()\n",
    "        optimizer.step()  # this will update parameters using torch.no_grad()\n",
    "        #optimzer.zero_grad()"
   ]
  },
  {
   "cell_type": "code",
   "execution_count": 158,
   "id": "088519b2-044e-4e56-9fbf-88400760d95c",
   "metadata": {
    "tags": []
   },
   "outputs": [
    {
     "data": {
      "text/plain": [
       "Text(0, 0.5, 'y')"
      ]
     },
     "execution_count": 158,
     "metadata": {},
     "output_type": "execute_result"
    },
    {
     "data": {
      "image/png": "[encoded data removed]",
      "text/plain": [
       "<Figure size 640x480 with 1 Axes>"
      ]
     },
     "metadata": {},
     "output_type": "display_data"
    }
   ],
   "source": [
    "yhat3 = conv3(x2_norm1).detach().numpy()\n",
    "plt.scatter(yhat3,y2_norm1.detach().numpy())\n",
    "plt.xlabel(\"yhat\")\n",
    "plt.ylabel(\"y\")"
   ]
  },
  {
   "cell_type": "code",
   "execution_count": 125,
   "id": "f3eead5b-1889-4d3e-ae0b-2a0975f33583",
   "metadata": {
    "tags": []
   },
   "outputs": [
    {
     "data": {
      "text/plain": [
       "array([[1.        , 0.80582571],\n",
       "       [0.80582571, 1.        ]])"
      ]
     },
     "execution_count": 125,
     "metadata": {},
     "output_type": "execute_result"
    }
   ],
   "source": [
    "np.corrcoef(np.squeeze(yhat3),np.squeeze(y2_norm1.detach().numpy()))"
   ]
  },
  {
   "cell_type": "markdown",
   "id": "fba04d5d",
   "metadata": {
    "id": "fba04d5d"
   },
   "source": [
    "In this case, we were able to load all of the training data into memory and store it in pytorch tensors. What if the training data were too big to fit into memory all at once? What could we do then? Propose a potential solution to this problem, and describe in words (or if you like, code) roughly how it would work."
   ]
  },
  {
   "cell_type": "markdown",
   "id": "3f470f19",
   "metadata": {
    "id": "3f470f19"
   },
   "source": []
  },
  {
   "cell_type": "code",
   "execution_count": null,
   "id": "237d85e3-77d5-481e-b492-5ff70e1cca0f",
   "metadata": {},
   "outputs": [],
   "source": []
  }
 ],
 "metadata": {
  "colab": {
   "provenance": []
  },
  "kernelspec": {
   "display_name": "Python 3 (ipykernel)",
   "language": "python",
   "name": "python3"
  },
  "language_info": {
   "codemirror_mode": {
    "name": "ipython",
    "version": 3
   },
   "file_extension": ".py",
   "mimetype": "text/x-python",
   "name": "python",
   "nbconvert_exporter": "python",
   "pygments_lexer": "ipython3",
   "version": "3.10.10"
  }
 },
 "nbformat": 4,
 "nbformat_minor": 5
}
